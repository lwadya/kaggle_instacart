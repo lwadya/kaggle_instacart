{
 "cells": [
  {
   "cell_type": "markdown",
   "metadata": {},
   "source": [
    "# Kaggle Instacart Classification\n",
    "This notebook contains the code for classifying whether or not an item will be in a user's most recent cart in the Kaggle Instacart Contest dataset. Most of the functionality (SQL queries, feature engineering, and model training) lives in **build_models.py**, which can be run through a notebook or the command line. If the script is run on a cloud instance, the contents of the cloud **data** directory can be copied into the local version in order to be loaded by this notebook."
   ]
  },
  {
   "cell_type": "markdown",
   "metadata": {},
   "source": [
    "### Table of Contents\n",
    "* [1. Imports and Functions](#sec1)\n",
    "* [2. Train Models or Load Models From Files](#sec2)\n",
    "* [3. Feature Engineering](#sec3)\n",
    "* [4. Function for Probability Threshold Adjustment](#sec4)\n",
    "* [5. Per-Item Model Evaluation](#sec5)\n",
    "* [6. Mean Per-User Model Evaluation](#sec6)\n",
    "* [7. Finding the Most Influential Features](#sec7)\n",
    "* [8. Histograms of User F1 Scores](#sec8)\n",
    "* [9. Sample User Cart Classification](#sec9)"
   ]
  },
  {
   "cell_type": "markdown",
   "metadata": {},
   "source": [
    "<a id='sec1'></a>\n",
    "### 1. Imports and Functions\n",
    "* **build_models**: Queries SQL database, engineers features, and trains models\n",
    "* **read_pickle**: Reads the given pickle file"
   ]
  },
  {
   "cell_type": "code",
   "execution_count": 31,
   "metadata": {},
   "outputs": [],
   "source": [
    "import sys\n",
    "import pandas as pd\n",
    "import numpy as np\n",
    "from sklearn.metrics import f1_score\n",
    "import seaborn as sns\n",
    "import matplotlib.pyplot as plt\n",
    "\n",
    "sys.path.append('./code')\n",
    "import build_models as bm\n",
    "from lw_pickle import read_pickle\n",
    "\n",
    "%matplotlib inline"
   ]
  },
  {
   "cell_type": "markdown",
   "metadata": {},
   "source": [
    "<a id='sec2'></a>\n",
    "### 2. Train Models or Load Models From Files\n",
    "I offloaded SQL queries, feature engineering, and model training to the **build_models.py** script in the **code** directory. The script saves a dataframe of testing set data called **test_df** into a .csv file and the logistic regression and gradient boosting decision tree models, **lrm** and **gbm** respectively, into pickle files. All test set and model data is stored in the **data** directory and if they exist, they will be loaded by this notebook. If they do not exist, the notebook trains models for a limited subset of the data (1,000 users) to ensure that the process does not overtax system resources. For final model evaluation, I trained models on the entire dataset of 13,120 users using an AWS EC2 instance and copied the resulting files over to the local **data** directory. My computer had enough RAM to train on 5,000 users in under 10 minutes, but could not handle the full dataset. The 2xLarge EC2 instance took **1 hour and 47 minutes** to train models on the full dataset."
   ]
  },
  {
   "cell_type": "code",
   "execution_count": 21,
   "metadata": {},
   "outputs": [],
   "source": [
    "# Setting force_rebuild to True will result in a local re-run of the\n",
    "# model build script regardless of whether or not local data exists\n",
    "force_rebuild = False\n",
    "test_df_csv = 'data/test_df.csv'\n",
    "model_lrm_pickle = 'data/model_lrm.pk'\n",
    "model_gbm_pickle = 'data/model_gbm.pk'\n",
    "\n",
    "# Attempts to load test set and models from local files\n",
    "test_df = pd.read_csv(test_df_csv, index_col=0)\n",
    "lrm = read_pickle(model_lrm_pickle)\n",
    "gbm = read_pickle(model_gbm_pickle)\n",
    "\n",
    "# Runs build_models script if test set or models did not load\n",
    "pk_types = [type(x) for x in [test_df, lrm, gbm]]\n",
    "if type(None) in pk_types or force_rebuild:\n",
    "    data = bm.build_models(user_limit=1000)\n",
    "    test_df = data.test_df\n",
    "    lrm = data.lrm\n",
    "    gbm = data.gbm\n",
    "    \n",
    "# Gets relevant Dataframe columns from build_models\n",
    "id_col = bm.build_models.id_col\n",
    "y_col = bm.build_models.y_col\n",
    "x_cols = bm.build_models.x_cols"
   ]
  },
  {
   "cell_type": "markdown",
   "metadata": {},
   "source": [
    "<a id='sec3'></a>\n",
    "### 3. Feature Engineering\n",
    "All of these features are created in the last step through the **build_models.py** script and used to train both models:\n",
    "* **percent_in_user_orders**: Percent of a user's orders in which an item appears\n",
    "* **percent_in_all_orders**: Percent of all orders in which an item appears\n",
    "* **in_last_cart**: 1 if an item appears in a user's most recent prior order, 0 if not\n",
    "* **in_last_five**: Number of orders in a user's five most recent prior orders in which an item appears\n",
    "* **total_user_orders**: Total number of orders placed by a user\n",
    "* **mean_orders_between**: Average number of orders between which an item appears in a user's order\n",
    "* **mean_days_between**: Average number of days between which an item appears in a user's order\n",
    "* **orders_since_newest**: Number of orders between the last user order containing an item and the most recent order\n",
    "* **days_since_newest**: Number of days between the last user order containing an item and the most recent order\n",
    "* **product_reorder_proba**: Probability that any user reorders an item\n",
    "* **user_reorder_proba**: Probability that a user reorders any item\n",
    "* **mean_cart_size**: Average user cart (aka order) size\n",
    "* **mean_cart_percentile**: Average percentile of user cart add order for an item\n",
    "* **mean_hour_of_week**: Average hour of the week that a user orders an item (168 hours in a week)\n",
    "* **newest_cart_size**: Number of items in the most recent cart\n",
    "* **newest_hour_of_week**: Hour of the week that the most recent order was placed\n",
    "* **cart_size_difference**: Absolute value of the difference between the average size of the orders containing an item and the size of the most recent order\n",
    "* **hour_of_week_difference**: Absolute value of the difference between the average hour of the week in which a user purchases an item and the hour of the week of the most recent order"
   ]
  },
  {
   "cell_type": "markdown",
   "metadata": {},
   "source": [
    "<a id='sec4'></a>\n",
    "### 4. Function for Probability Threshold Adjustment\n",
    "In order to account for the class imbalance that results from most items in a user's order history not being in their current cart, I adjust the probability threshold separating the two classes."
   ]
  },
  {
   "cell_type": "code",
   "execution_count": 22,
   "metadata": {},
   "outputs": [],
   "source": [
    "def adjust_threshold(proba, threshold=.5):\n",
    "    return (proba[:, 1] >= threshold).astype(int)"
   ]
  },
  {
   "cell_type": "markdown",
   "metadata": {},
   "source": [
    "<a id='sec5'></a>\n",
    "### 5. Per-Item Model Evaluation\n",
    "I calculated F1 scores for both the logistic regression and gradient boosting decision tree models treating each item in a user's order history with equal weight. I chose F1 to balance precision and recall and adjusted the probability threshold to maximize F1 scores for each model."
   ]
  },
  {
   "cell_type": "code",
   "execution_count": 23,
   "metadata": {},
   "outputs": [
    {
     "name": "stdout",
     "output_type": "stream",
     "text": [
      "Logistic Regression:\n",
      "F1 Score @ 0.50 prob. threshold: 0.313\n",
      "F1 Score @ 0.17 prob. threshold: 0.447\n"
     ]
    }
   ],
   "source": [
    "# Calculates logistic regression F1 score using base .5 probability threshold\n",
    "lrm_proba = lrm.predict_proba(test_df[x_cols])\n",
    "lrm_pred = adjust_threshold(lrm_proba)\n",
    "lrm_base_f1 = round(f1_score(test_df[y_col], lrm_pred), 3)\n",
    "\n",
    "# Calculates logistic regression F1 score using optimized probability threshold\n",
    "lrm_th = .17\n",
    "lrm_adj = adjust_threshold(lrm_proba, lrm_th)\n",
    "lrm_opt_f1 = round(f1_score(test_df[y_col], lrm_adj), 3)\n",
    "\n",
    "print('Logistic Regression:')\n",
    "print(f'F1 Score @ 0.50 prob. threshold: {lrm_base_f1}')\n",
    "print(f'F1 Score @ {lrm_th} prob. threshold: {lrm_opt_f1}')"
   ]
  },
  {
   "cell_type": "code",
   "execution_count": 24,
   "metadata": {},
   "outputs": [
    {
     "name": "stdout",
     "output_type": "stream",
     "text": [
      "Gradient Boosting Decision Trees:\n",
      "F1 Score @ 0.50 prob. threshold: 0.338\n",
      "F1 Score @ 0.21 prob. threshold: 0.461\n"
     ]
    }
   ],
   "source": [
    "# Calculates gradient boosting trees F1 score using base .5 probability threshold\n",
    "gbm_proba = gbm.predict_proba(test_df[x_cols])\n",
    "gbm_pred = adjust_threshold(gbm_proba)\n",
    "gbm_base_f1 = round(f1_score(test_df[y_col], gbm_pred), 3)\n",
    "\n",
    "# Calculates gradient boosting trees F1 score using optimized probability threshold\n",
    "gbm_th = .21\n",
    "gbm_adj = adjust_threshold(gbm_proba, gbm_th)\n",
    "gbm_opt_f1 = round(f1_score(test_df[y_col], gbm_adj), 3)\n",
    "\n",
    "print('Gradient Boosting Decision Trees:')\n",
    "print(f'F1 Score @ 0.50 prob. threshold: {gbm_base_f1}')\n",
    "print(f'F1 Score @ {gbm_th} prob. threshold: {gbm_opt_f1}')"
   ]
  },
  {
   "cell_type": "markdown",
   "metadata": {},
   "source": [
    "<a id='sec6'></a>\n",
    "### 6. Mean Per-User Model Evaluation\n",
    "I created a separate metric to better evaluate how the models perform for the average user. If either model were incorporated into a recommendation engine the user-based metric would better represent its performance."
   ]
  },
  {
   "cell_type": "code",
   "execution_count": 25,
   "metadata": {},
   "outputs": [
    {
     "name": "stderr",
     "output_type": "stream",
     "text": [
      "/anaconda3/lib/python3.7/site-packages/sklearn/metrics/classification.py:1437: UndefinedMetricWarning: F-score is ill-defined and being set to 0.0 due to no predicted samples.\n",
      "  'precision', 'predicted', average, warn_for)\n",
      "/anaconda3/lib/python3.7/site-packages/sklearn/metrics/classification.py:1439: UndefinedMetricWarning: F-score is ill-defined and being set to 0.0 due to no true samples.\n",
      "  'recall', 'true', average, warn_for)\n"
     ]
    },
    {
     "name": "stdout",
     "output_type": "stream",
     "text": [
      "Per-User Optimized F1 Scores:\n",
      "Linear Regression: 0.367\n",
      "Gradient Boosting Decision Trees: 0.368\n"
     ]
    }
   ],
   "source": [
    "lrm_adj = adjust_threshold(lrm_proba, .16)\n",
    "gbm_adj = adjust_threshold(gbm_proba, .17)\n",
    "\n",
    "score_df = test_df[[id_col, y_col]].reset_index(drop=True)\n",
    "score_df['lrm'] = lrm_adj\n",
    "score_df['gbm'] = gbm_adj\n",
    "users = score_df[id_col].unique()\n",
    "\n",
    "lrm_f1 = []\n",
    "gbm_f1 = []\n",
    "for user in users:\n",
    "    user_df = score_df[score_df[id_col] == user]\n",
    "    lrm_f1.append(f1_score(user_df[y_col], user_df['lrm']))\n",
    "    gbm_f1.append(f1_score(user_df[y_col], user_df['gbm']))\n",
    "mean_lrm_f1 = round(np.mean(lrm_f1), 3)\n",
    "mean_gbm_f1 = round(np.mean(gbm_f1), 3)\n",
    "\n",
    "print('Per-User Optimized F1 Scores:')\n",
    "print(f'Linear Regression: {mean_lrm_f1}')\n",
    "print(f'Gradient Boosting Decision Trees: {mean_gbm_f1}')"
   ]
  },
  {
   "cell_type": "markdown",
   "metadata": {},
   "source": [
    "<a id='sec7'></a>\n",
    "### 7. Finding the Most Influential Features\n",
    "I charted the feature coefficients for both models to see which predictors most influence the models. The logistic regression model relies heavily upon information about the size of the most recent cart, while the gradient boosting decision trees model gives far more weight to the contents of a user's previous orders. If information about the most recent cart were not available, the gradient boosting model would most likely outperform the logistic regression model."
   ]
  },
  {
   "cell_type": "code",
   "execution_count": 90,
   "metadata": {},
   "outputs": [
    {
     "data": {
      "image/png": "[encoded data removed]",
      "text/plain": [
       "<Figure size 648x360 with 1 Axes>"
      ]
     },
     "metadata": {
      "needs_background": "light"
     },
     "output_type": "display_data"
    },
    {
     "data": {
      "image/png": "[encoded data removed]",
      "text/plain": [
       "<Figure size 648x360 with 1 Axes>"
      ]
     },
     "metadata": {
      "needs_background": "light"
     },
     "output_type": "display_data"
    }
   ],
   "source": [
    "feature_df = pd.DataFrame({'feature': x_cols,\n",
    "                           'lrm_coef': lrm.coef_[0].tolist(),\n",
    "                           'lrm_abs_coef': np.abs(lrm.coef_[0]).tolist(),\n",
    "                           'xgb_coef': gbm.feature_importances_.tolist()})\n",
    "\n",
    "sort_df = feature_df.sort_values('lrm_abs_coef', ascending=False)[:10]\n",
    "plt.figure(figsize=(9, 5))\n",
    "plt.margins(y=100)\n",
    "plt.title('\\nLogistic Regression Coefficients', size=20, y=1.05)\n",
    "sns.barplot(x=sort_df['lrm_coef'], y=sort_df['feature'], palette='PuBu_d')\n",
    "plt.xlabel('Coefficient Value', size=15, labelpad=10)\n",
    "plt.ylabel('Feature', size=15, labelpad=20)\n",
    "\n",
    "sort_df = feature_df.sort_values('xgb_coef', ascending=False)[:10]\n",
    "plt.figure(figsize=(9, 5))\n",
    "plt.title('\\nGradient Boosting Decision Trees Coefficients', size=20, y=1.05)\n",
    "sns.barplot(x=sort_df['xgb_coef'], y=sort_df['feature'], palette='BuGn_d')\n",
    "plt.xlabel('Coefficient Value', size=15, labelpad=10)\n",
    "plt.ylabel('Feature', size=15, labelpad=20);"
   ]
  },
  {
   "cell_type": "markdown",
   "metadata": {},
   "source": [
    "<a id='sec8'></a>\n",
    "### 8. Histograms of User F1 Scores\n",
    "I created histograms of user F1 scores for both models."
   ]
  },
  {
   "cell_type": "code",
   "execution_count": 91,
   "metadata": {},
   "outputs": [
    {
     "data": {
      "image/png": "[encoded data removed]",
      "text/plain": [
       "<Figure size 648x360 with 1 Axes>"
      ]
     },
     "metadata": {
      "needs_background": "light"
     },
     "output_type": "display_data"
    },
    {
     "data": {
      "image/png": "[encoded data removed]",
      "text/plain": [
       "<Figure size 648x360 with 1 Axes>"
      ]
     },
     "metadata": {
      "needs_background": "light"
     },
     "output_type": "display_data"
    }
   ],
   "source": [
    "plt.figure(figsize=(9, 5))\n",
    "sns.distplot(lrm_f1);\n",
    "\n",
    "plt.figure(figsize=(9, 5))\n",
    "sns.distplot(gbm_f1);"
   ]
  },
  {
   "cell_type": "markdown",
   "metadata": {},
   "source": [
    "<a id='sec9'></a>\n",
    "### 9. Sample User Cart Classification\n"
   ]
  },
  {
   "cell_type": "code",
   "execution_count": 317,
   "metadata": {},
   "outputs": [],
   "source": [
    "opt = []\n",
    "for user in users:\n",
    "    sdf = score_df[score_df['user_id'] == user]\n",
    "    if f1_score(sdf[y_col], sdf['gbm_adj']) == .8:\n",
    "        opt.append(user)"
   ]
  },
  {
   "cell_type": "code",
   "execution_count": 319,
   "metadata": {},
   "outputs": [
    {
     "data": {
      "text/plain": [
       "[165457, 131275, 55976, 149166, 200230, 10673, 33350, 136527, 184394, 40141]"
      ]
     },
     "execution_count": 319,
     "metadata": {},
     "output_type": "execute_result"
    }
   ],
   "source": [
    "opt[:10]"
   ]
  },
  {
   "cell_type": "code",
   "execution_count": 326,
   "metadata": {},
   "outputs": [],
   "source": [
    "prob_list = gbm.predict_proba(df[df['user_id'] == 55976][x_cols].values)[:,1].tolist()\n",
    "pid = df[df['user_id'] == 55976]['product_id'].tolist()"
   ]
  },
  {
   "cell_type": "code",
   "execution_count": 329,
   "metadata": {},
   "outputs": [],
   "source": [
    "p_df = pd.DataFrame({'product_id':pid, 'prob':prob_list})"
   ]
  },
  {
   "cell_type": "code",
   "execution_count": 331,
   "metadata": {},
   "outputs": [
    {
     "data": {
      "text/html": [
       "<div>\n",
       "<style scoped>\n",
       "    .dataframe tbody tr th:only-of-type {\n",
       "        vertical-align: middle;\n",
       "    }\n",
       "\n",
       "    .dataframe tbody tr th {\n",
       "        vertical-align: top;\n",
       "    }\n",
       "\n",
       "    .dataframe thead th {\n",
       "        text-align: right;\n",
       "    }\n",
       "</style>\n",
       "<table border=\"1\" class=\"dataframe\">\n",
       "  <thead>\n",
       "    <tr style=\"text-align: right;\">\n",
       "      <th></th>\n",
       "      <th>product_id</th>\n",
       "      <th>prob</th>\n",
       "    </tr>\n",
       "  </thead>\n",
       "  <tbody>\n",
       "    <tr>\n",
       "      <th>0</th>\n",
       "      <td>4913</td>\n",
       "      <td>0.036324</td>\n",
       "    </tr>\n",
       "    <tr>\n",
       "      <th>1</th>\n",
       "      <td>12341</td>\n",
       "      <td>0.065523</td>\n",
       "    </tr>\n",
       "    <tr>\n",
       "      <th>2</th>\n",
       "      <td>12899</td>\n",
       "      <td>0.041584</td>\n",
       "    </tr>\n",
       "    <tr>\n",
       "      <th>3</th>\n",
       "      <td>22046</td>\n",
       "      <td>0.642222</td>\n",
       "    </tr>\n",
       "    <tr>\n",
       "      <th>4</th>\n",
       "      <td>8859</td>\n",
       "      <td>0.066379</td>\n",
       "    </tr>\n",
       "  </tbody>\n",
       "</table>\n",
       "</div>"
      ],
      "text/plain": [
       "   product_id      prob\n",
       "0        4913  0.036324\n",
       "1       12341  0.065523\n",
       "2       12899  0.041584\n",
       "3       22046  0.642222\n",
       "4        8859  0.066379"
      ]
     },
     "execution_count": 331,
     "metadata": {},
     "output_type": "execute_result"
    }
   ],
   "source": [
    "p_df.head()"
   ]
  },
  {
   "cell_type": "code",
   "execution_count": 332,
   "metadata": {},
   "outputs": [
    {
     "data": {
      "text/html": [
       "<div>\n",
       "<style scoped>\n",
       "    .dataframe tbody tr th:only-of-type {\n",
       "        vertical-align: middle;\n",
       "    }\n",
       "\n",
       "    .dataframe tbody tr th {\n",
       "        vertical-align: top;\n",
       "    }\n",
       "\n",
       "    .dataframe thead th {\n",
       "        text-align: right;\n",
       "    }\n",
       "</style>\n",
       "<table border=\"1\" class=\"dataframe\">\n",
       "  <thead>\n",
       "    <tr style=\"text-align: right;\">\n",
       "      <th></th>\n",
       "      <th>product_id</th>\n",
       "      <th>product_name</th>\n",
       "      <th>aisle_id</th>\n",
       "      <th>department_id</th>\n",
       "    </tr>\n",
       "  </thead>\n",
       "  <tbody>\n",
       "    <tr>\n",
       "      <th>0</th>\n",
       "      <td>1</td>\n",
       "      <td>Chocolate Sandwich Cookies</td>\n",
       "      <td>61</td>\n",
       "      <td>19</td>\n",
       "    </tr>\n",
       "    <tr>\n",
       "      <th>1</th>\n",
       "      <td>2</td>\n",
       "      <td>All-Seasons Salt</td>\n",
       "      <td>104</td>\n",
       "      <td>13</td>\n",
       "    </tr>\n",
       "    <tr>\n",
       "      <th>2</th>\n",
       "      <td>3</td>\n",
       "      <td>Robust Golden Unsweetened Oolong Tea</td>\n",
       "      <td>94</td>\n",
       "      <td>7</td>\n",
       "    </tr>\n",
       "    <tr>\n",
       "      <th>3</th>\n",
       "      <td>4</td>\n",
       "      <td>Smart Ones Classic Favorites Mini Rigatoni Wit...</td>\n",
       "      <td>38</td>\n",
       "      <td>1</td>\n",
       "    </tr>\n",
       "    <tr>\n",
       "      <th>4</th>\n",
       "      <td>5</td>\n",
       "      <td>Green Chile Anytime Sauce</td>\n",
       "      <td>5</td>\n",
       "      <td>13</td>\n",
       "    </tr>\n",
       "  </tbody>\n",
       "</table>\n",
       "</div>"
      ],
      "text/plain": [
       "   product_id                                       product_name  aisle_id  \\\n",
       "0           1                         Chocolate Sandwich Cookies        61   \n",
       "1           2                                   All-Seasons Salt       104   \n",
       "2           3               Robust Golden Unsweetened Oolong Tea        94   \n",
       "3           4  Smart Ones Classic Favorites Mini Rigatoni Wit...        38   \n",
       "4           5                          Green Chile Anytime Sauce         5   \n",
       "\n",
       "   department_id  \n",
       "0             19  \n",
       "1             13  \n",
       "2              7  \n",
       "3              1  \n",
       "4             13  "
      ]
     },
     "execution_count": 332,
     "metadata": {},
     "output_type": "execute_result"
    }
   ],
   "source": [
    "products_df = pd.read_csv('../data/common/products.csv')\n",
    "products_df.head()"
   ]
  },
  {
   "cell_type": "code",
   "execution_count": 333,
   "metadata": {},
   "outputs": [],
   "source": [
    "p_df = p_df.merge(products_df, how='left', on='product_id')"
   ]
  },
  {
   "cell_type": "code",
   "execution_count": 336,
   "metadata": {},
   "outputs": [
    {
     "data": {
      "text/html": [
       "<div>\n",
       "<style scoped>\n",
       "    .dataframe tbody tr th:only-of-type {\n",
       "        vertical-align: middle;\n",
       "    }\n",
       "\n",
       "    .dataframe tbody tr th {\n",
       "        vertical-align: top;\n",
       "    }\n",
       "\n",
       "    .dataframe thead th {\n",
       "        text-align: right;\n",
       "    }\n",
       "</style>\n",
       "<table border=\"1\" class=\"dataframe\">\n",
       "  <thead>\n",
       "    <tr style=\"text-align: right;\">\n",
       "      <th></th>\n",
       "      <th>product_id</th>\n",
       "      <th>prob</th>\n",
       "      <th>product_name</th>\n",
       "      <th>aisle_id</th>\n",
       "      <th>department_id</th>\n",
       "    </tr>\n",
       "  </thead>\n",
       "  <tbody>\n",
       "    <tr>\n",
       "      <th>3</th>\n",
       "      <td>22046</td>\n",
       "      <td>0.642222</td>\n",
       "      <td>Frozen Whole Strawberries</td>\n",
       "      <td>116</td>\n",
       "      <td>1</td>\n",
       "    </tr>\n",
       "    <tr>\n",
       "      <th>12</th>\n",
       "      <td>5258</td>\n",
       "      <td>0.205645</td>\n",
       "      <td>Sparkling Water</td>\n",
       "      <td>115</td>\n",
       "      <td>7</td>\n",
       "    </tr>\n",
       "    <tr>\n",
       "      <th>5</th>\n",
       "      <td>13176</td>\n",
       "      <td>0.124902</td>\n",
       "      <td>Bag of Organic Bananas</td>\n",
       "      <td>24</td>\n",
       "      <td>4</td>\n",
       "    </tr>\n",
       "    <tr>\n",
       "      <th>6</th>\n",
       "      <td>30827</td>\n",
       "      <td>0.101226</td>\n",
       "      <td>Seedless Cucumbers</td>\n",
       "      <td>32</td>\n",
       "      <td>4</td>\n",
       "    </tr>\n",
       "    <tr>\n",
       "      <th>10</th>\n",
       "      <td>26348</td>\n",
       "      <td>0.073586</td>\n",
       "      <td>Mixed Fruit Fruit Snacks</td>\n",
       "      <td>50</td>\n",
       "      <td>19</td>\n",
       "    </tr>\n",
       "    <tr>\n",
       "      <th>4</th>\n",
       "      <td>8859</td>\n",
       "      <td>0.066379</td>\n",
       "      <td>Natural Spring Water</td>\n",
       "      <td>115</td>\n",
       "      <td>7</td>\n",
       "    </tr>\n",
       "    <tr>\n",
       "      <th>1</th>\n",
       "      <td>12341</td>\n",
       "      <td>0.065523</td>\n",
       "      <td>Hass Avocados</td>\n",
       "      <td>32</td>\n",
       "      <td>4</td>\n",
       "    </tr>\n",
       "    <tr>\n",
       "      <th>17</th>\n",
       "      <td>27885</td>\n",
       "      <td>0.065380</td>\n",
       "      <td>Malbec</td>\n",
       "      <td>28</td>\n",
       "      <td>5</td>\n",
       "    </tr>\n",
       "    <tr>\n",
       "      <th>11</th>\n",
       "      <td>33768</td>\n",
       "      <td>0.049367</td>\n",
       "      <td>Sinfully Sweet Campari Tomatoes</td>\n",
       "      <td>83</td>\n",
       "      <td>4</td>\n",
       "    </tr>\n",
       "    <tr>\n",
       "      <th>14</th>\n",
       "      <td>33065</td>\n",
       "      <td>0.048476</td>\n",
       "      <td>Cabernet Sauvignon</td>\n",
       "      <td>28</td>\n",
       "      <td>5</td>\n",
       "    </tr>\n",
       "    <tr>\n",
       "      <th>16</th>\n",
       "      <td>19801</td>\n",
       "      <td>0.047501</td>\n",
       "      <td>Sauvignon Blanc Wine</td>\n",
       "      <td>62</td>\n",
       "      <td>5</td>\n",
       "    </tr>\n",
       "    <tr>\n",
       "      <th>2</th>\n",
       "      <td>12899</td>\n",
       "      <td>0.041584</td>\n",
       "      <td>Fresh Mozzarella All-Natural Sliced Cheese</td>\n",
       "      <td>21</td>\n",
       "      <td>16</td>\n",
       "    </tr>\n",
       "    <tr>\n",
       "      <th>7</th>\n",
       "      <td>31759</td>\n",
       "      <td>0.040657</td>\n",
       "      <td>Cherrios Honey Nut</td>\n",
       "      <td>121</td>\n",
       "      <td>14</td>\n",
       "    </tr>\n",
       "    <tr>\n",
       "      <th>15</th>\n",
       "      <td>9086</td>\n",
       "      <td>0.040624</td>\n",
       "      <td>Riesling, Colombia Valley, Vintage 2013</td>\n",
       "      <td>62</td>\n",
       "      <td>5</td>\n",
       "    </tr>\n",
       "    <tr>\n",
       "      <th>9</th>\n",
       "      <td>41400</td>\n",
       "      <td>0.038434</td>\n",
       "      <td>Crunchy Oats 'n Honey Granola Bars</td>\n",
       "      <td>3</td>\n",
       "      <td>19</td>\n",
       "    </tr>\n",
       "    <tr>\n",
       "      <th>8</th>\n",
       "      <td>11365</td>\n",
       "      <td>0.037213</td>\n",
       "      <td>Leaf Spinach</td>\n",
       "      <td>32</td>\n",
       "      <td>4</td>\n",
       "    </tr>\n",
       "    <tr>\n",
       "      <th>0</th>\n",
       "      <td>4913</td>\n",
       "      <td>0.036324</td>\n",
       "      <td>Table Water Crackers</td>\n",
       "      <td>78</td>\n",
       "      <td>19</td>\n",
       "    </tr>\n",
       "    <tr>\n",
       "      <th>13</th>\n",
       "      <td>35267</td>\n",
       "      <td>0.030679</td>\n",
       "      <td>Organic Granny Smith Apples</td>\n",
       "      <td>24</td>\n",
       "      <td>4</td>\n",
       "    </tr>\n",
       "  </tbody>\n",
       "</table>\n",
       "</div>"
      ],
      "text/plain": [
       "    product_id      prob                                product_name  \\\n",
       "3        22046  0.642222                   Frozen Whole Strawberries   \n",
       "12        5258  0.205645                             Sparkling Water   \n",
       "5        13176  0.124902                      Bag of Organic Bananas   \n",
       "6        30827  0.101226                          Seedless Cucumbers   \n",
       "10       26348  0.073586                    Mixed Fruit Fruit Snacks   \n",
       "4         8859  0.066379                        Natural Spring Water   \n",
       "1        12341  0.065523                               Hass Avocados   \n",
       "17       27885  0.065380                                      Malbec   \n",
       "11       33768  0.049367             Sinfully Sweet Campari Tomatoes   \n",
       "14       33065  0.048476                          Cabernet Sauvignon   \n",
       "16       19801  0.047501                        Sauvignon Blanc Wine   \n",
       "2        12899  0.041584  Fresh Mozzarella All-Natural Sliced Cheese   \n",
       "7        31759  0.040657                          Cherrios Honey Nut   \n",
       "15        9086  0.040624     Riesling, Colombia Valley, Vintage 2013   \n",
       "9        41400  0.038434          Crunchy Oats 'n Honey Granola Bars   \n",
       "8        11365  0.037213                                Leaf Spinach   \n",
       "0         4913  0.036324                        Table Water Crackers   \n",
       "13       35267  0.030679                 Organic Granny Smith Apples   \n",
       "\n",
       "    aisle_id  department_id  \n",
       "3        116              1  \n",
       "12       115              7  \n",
       "5         24              4  \n",
       "6         32              4  \n",
       "10        50             19  \n",
       "4        115              7  \n",
       "1         32              4  \n",
       "17        28              5  \n",
       "11        83              4  \n",
       "14        28              5  \n",
       "16        62              5  \n",
       "2         21             16  \n",
       "7        121             14  \n",
       "15        62              5  \n",
       "9          3             19  \n",
       "8         32              4  \n",
       "0         78             19  \n",
       "13        24              4  "
      ]
     },
     "execution_count": 336,
     "metadata": {},
     "output_type": "execute_result"
    }
   ],
   "source": [
    "p_df.sort_values(by='prob', ascending=False)"
   ]
  },
  {
   "cell_type": "code",
   "execution_count": null,
   "metadata": {},
   "outputs": [],
   "source": []
  }
 ],
 "metadata": {
  "kernelspec": {
   "display_name": "Python 3",
   "language": "python",
   "name": "python3"
  },
  "language_info": {
   "codemirror_mode": {
    "name": "ipython",
    "version": 3
   },
   "file_extension": ".py",
   "mimetype": "text/x-python",
   "name": "python",
   "nbconvert_exporter": "python",
   "pygments_lexer": "ipython3",
   "version": "3.7.3"
  }
 },
 "nbformat": 4,
 "nbformat_minor": 2
}
