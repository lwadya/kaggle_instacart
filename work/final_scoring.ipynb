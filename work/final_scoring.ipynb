{
 "cells": [
  {
   "cell_type": "markdown",
   "metadata": {},
   "source": [
    "### 1. Imports\n",
    "* **read_pickle**: Reads the given pickle file"
   ]
  },
  {
   "cell_type": "code",
   "execution_count": 267,
   "metadata": {},
   "outputs": [],
   "source": [
    "# Janky xgboost fix\n",
    "import os\n",
    "os.environ['KMP_DUPLICATE_LIB_OK']='True'"
   ]
  },
  {
   "cell_type": "code",
   "execution_count": 268,
   "metadata": {},
   "outputs": [],
   "source": [
    "import pandas as pd\n",
    "import numpy as np\n",
    "from sklearn.metrics import f1_score, precision_score, recall_score\n",
    "from sklearn.linear_model import LogisticRegression\n",
    "import xgboost as xgb\n",
    "\n",
    "from code.lw_pickle import read_pickle"
   ]
  },
  {
   "cell_type": "code",
   "execution_count": 269,
   "metadata": {},
   "outputs": [
    {
     "name": "stderr",
     "output_type": "stream",
     "text": [
      "/anaconda3/lib/python3.7/site-packages/sklearn/base.py:251: UserWarning: Trying to unpickle estimator LogisticRegression from version 0.20.3 when using version 0.20.1. This might lead to breaking code or invalid results. Use at your own risk.\n",
      "  UserWarning)\n",
      "/anaconda3/lib/python3.7/site-packages/sklearn/base.py:251: UserWarning: Trying to unpickle estimator LabelEncoder from version 0.20.3 when using version 0.20.1. This might lead to breaking code or invalid results. Use at your own risk.\n",
      "  UserWarning)\n"
     ]
    }
   ],
   "source": [
    "df = pd.read_csv('ec2/test_df.csv')\n",
    "df.drop('Unnamed: 0', axis=1, inplace=True)\n",
    "lr = read_pickle('ec2/model_lr.pk')\n",
    "gbm = read_pickle('ec2/model_gbm.pk')"
   ]
  },
  {
   "cell_type": "code",
   "execution_count": 270,
   "metadata": {},
   "outputs": [
    {
     "data": {
      "text/plain": [
       "(856961, 21)"
      ]
     },
     "execution_count": 270,
     "metadata": {},
     "output_type": "execute_result"
    }
   ],
   "source": [
    "df.shape"
   ]
  },
  {
   "cell_type": "code",
   "execution_count": 271,
   "metadata": {},
   "outputs": [],
   "source": [
    "def adjust_threshold(proba, threshold=.5):\n",
    "    return (proba[:, 1] >= threshold).astype(int)"
   ]
  },
  {
   "cell_type": "code",
   "execution_count": 272,
   "metadata": {},
   "outputs": [],
   "source": [
    "group_col = 'user_id'\n",
    "x_cols = ['percent_in_user_orders',\n",
    "          'percent_in_all_orders',\n",
    "          'in_last_cart',\n",
    "          'in_last_five',\n",
    "          'total_user_orders',\n",
    "          'mean_orders_between',\n",
    "          'mean_days_between',\n",
    "          'orders_since_newest',\n",
    "          'days_since_newest',\n",
    "          'product_reorder_proba',\n",
    "          'user_reorder_proba',\n",
    "          'mean_cart_size',\n",
    "          'mean_cart_percentile',\n",
    "          'mean_hour_of_week',\n",
    "          'newest_cart_size',\n",
    "          'newest_hour_of_week',\n",
    "          'cart_size_difference',\n",
    "          'hour_of_week_difference'\n",
    "         ]\n",
    "y_col = 'in_cart'"
   ]
  },
  {
   "cell_type": "markdown",
   "metadata": {},
   "source": [
    "## Total F1 Score"
   ]
  },
  {
   "cell_type": "markdown",
   "metadata": {},
   "source": [
    "### Logistic Regression"
   ]
  },
  {
   "cell_type": "code",
   "execution_count": 273,
   "metadata": {},
   "outputs": [
    {
     "name": "stdout",
     "output_type": "stream",
     "text": [
      "0.31109302956333057\n",
      "0.634192192856353\n",
      "0.20609480001437452\n",
      "0.44570121194858175\n"
     ]
    }
   ],
   "source": [
    "lr_proba = lr.predict_proba(df[x_cols])\n",
    "lr_pred = adjust_threshold(lr_proba)\n",
    "\n",
    "print(f1_score(df[y_col], lr_pred))\n",
    "print(precision_score(df[y_col], lr_pred))\n",
    "print(recall_score(df[y_col], lr_pred))\n",
    "\n",
    "lr_adj = adjust_threshold(lr_proba, .17)\n",
    "print(f1_score(df[y_col], lr_adj))"
   ]
  },
  {
   "cell_type": "markdown",
   "metadata": {},
   "source": [
    "### XGBoost"
   ]
  },
  {
   "cell_type": "code",
   "execution_count": 274,
   "metadata": {},
   "outputs": [
    {
     "name": "stdout",
     "output_type": "stream",
     "text": [
      "0.33374309086889237\n",
      "0.637595458538893\n",
      "0.22602747930666858\n",
      "0.45937386165863925\n"
     ]
    }
   ],
   "source": [
    "gbm_proba = gbm.predict_proba(df[x_cols].values)\n",
    "gbm_pred = adjust_threshold(gbm_proba)\n",
    "\n",
    "print(f1_score(df[y_col], gbm_pred))\n",
    "print(precision_score(df[y_col], gbm_pred))\n",
    "print(recall_score(df[y_col], gbm_pred))\n",
    "\n",
    "gbm_adj = adjust_threshold(gbm_proba, .21)\n",
    "print(f1_score(df[y_col], gbm_adj))"
   ]
  },
  {
   "cell_type": "markdown",
   "metadata": {},
   "source": [
    "## Per User Average Score"
   ]
  },
  {
   "cell_type": "code",
   "execution_count": 286,
   "metadata": {},
   "outputs": [
    {
     "name": "stdout",
     "output_type": "stream",
     "text": [
      "0.3653402554718635\n",
      "0.36717204855346675\n"
     ]
    }
   ],
   "source": [
    "lr_adj = adjust_threshold(lr_proba, .16)\n",
    "gbm_adj = adjust_threshold(gbm_proba, .17)\n",
    "\n",
    "score_df = df[[group_col, y_col]].reset_index(drop=True)\n",
    "score_df['lr_adj'] = lr_adj\n",
    "score_df['gbm_adj'] = gbm_adj\n",
    "users = score_df['user_id'].unique()\n",
    "\n",
    "lr_f1 = []\n",
    "gbm_f1 = []\n",
    "for user in users:\n",
    "    sdf = score_df[score_df['user_id'] == user]\n",
    "    lr_f1.append(f1_score(sdf[y_col], sdf['lr_adj']))\n",
    "    gbm_f1.append(f1_score(sdf[y_col], sdf['gbm_adj']))\n",
    "\n",
    "print(np.mean(lr_f1))\n",
    "print(np.mean(gbm_f1))"
   ]
  },
  {
   "cell_type": "markdown",
   "metadata": {},
   "source": [
    "### Compare Features"
   ]
  },
  {
   "cell_type": "code",
   "execution_count": 305,
   "metadata": {},
   "outputs": [],
   "source": [
    "feature_df = pd.DataFrame({'feature': x_cols,\n",
    "                           'lr_coef': lr.coef_[0].tolist(),\n",
    "                           'lr_abs_coef': np.abs(lr.coef_[0]).tolist(),\n",
    "                           'xgb_coef': gbm.feature_importances_.tolist()}\n",
    "                         )"
   ]
  },
  {
   "cell_type": "code",
   "execution_count": 307,
   "metadata": {},
   "outputs": [],
   "source": [
    "feature_df.to_csv('tableau/features.csv')"
   ]
  },
  {
   "cell_type": "code",
   "execution_count": 309,
   "metadata": {},
   "outputs": [],
   "source": [
    "pd.DataFrame(gbm_f1).to_csv('tableau/hist.csv')"
   ]
  },
  {
   "cell_type": "markdown",
   "metadata": {},
   "source": [
    "### User Example"
   ]
  },
  {
   "cell_type": "code",
   "execution_count": 317,
   "metadata": {},
   "outputs": [],
   "source": [
    "opt = []\n",
    "for user in users:\n",
    "    sdf = score_df[score_df['user_id'] == user]\n",
    "    if f1_score(sdf[y_col], sdf['gbm_adj']) == .8:\n",
    "        opt.append(user)"
   ]
  },
  {
   "cell_type": "code",
   "execution_count": 319,
   "metadata": {},
   "outputs": [
    {
     "data": {
      "text/plain": [
       "[165457, 131275, 55976, 149166, 200230, 10673, 33350, 136527, 184394, 40141]"
      ]
     },
     "execution_count": 319,
     "metadata": {},
     "output_type": "execute_result"
    }
   ],
   "source": [
    "opt[:10]"
   ]
  },
  {
   "cell_type": "code",
   "execution_count": 326,
   "metadata": {},
   "outputs": [],
   "source": [
    "prob_list = gbm.predict_proba(df[df['user_id'] == 55976][x_cols].values)[:,1].tolist()\n",
    "pid = df[df['user_id'] == 55976]['product_id'].tolist()"
   ]
  },
  {
   "cell_type": "code",
   "execution_count": 329,
   "metadata": {},
   "outputs": [],
   "source": [
    "p_df = pd.DataFrame({'product_id':pid, 'prob':prob_list})"
   ]
  },
  {
   "cell_type": "code",
   "execution_count": 331,
   "metadata": {},
   "outputs": [
    {
     "data": {
      "text/html": [
       "<div>\n",
       "<style scoped>\n",
       "    .dataframe tbody tr th:only-of-type {\n",
       "        vertical-align: middle;\n",
       "    }\n",
       "\n",
       "    .dataframe tbody tr th {\n",
       "        vertical-align: top;\n",
       "    }\n",
       "\n",
       "    .dataframe thead th {\n",
       "        text-align: right;\n",
       "    }\n",
       "</style>\n",
       "<table border=\"1\" class=\"dataframe\">\n",
       "  <thead>\n",
       "    <tr style=\"text-align: right;\">\n",
       "      <th></th>\n",
       "      <th>product_id</th>\n",
       "      <th>prob</th>\n",
       "    </tr>\n",
       "  </thead>\n",
       "  <tbody>\n",
       "    <tr>\n",
       "      <th>0</th>\n",
       "      <td>4913</td>\n",
       "      <td>0.036324</td>\n",
       "    </tr>\n",
       "    <tr>\n",
       "      <th>1</th>\n",
       "      <td>12341</td>\n",
       "      <td>0.065523</td>\n",
       "    </tr>\n",
       "    <tr>\n",
       "      <th>2</th>\n",
       "      <td>12899</td>\n",
       "      <td>0.041584</td>\n",
       "    </tr>\n",
       "    <tr>\n",
       "      <th>3</th>\n",
       "      <td>22046</td>\n",
       "      <td>0.642222</td>\n",
       "    </tr>\n",
       "    <tr>\n",
       "      <th>4</th>\n",
       "      <td>8859</td>\n",
       "      <td>0.066379</td>\n",
       "    </tr>\n",
       "  </tbody>\n",
       "</table>\n",
       "</div>"
      ],
      "text/plain": [
       "   product_id      prob\n",
       "0        4913  0.036324\n",
       "1       12341  0.065523\n",
       "2       12899  0.041584\n",
       "3       22046  0.642222\n",
       "4        8859  0.066379"
      ]
     },
     "execution_count": 331,
     "metadata": {},
     "output_type": "execute_result"
    }
   ],
   "source": [
    "p_df.head()"
   ]
  },
  {
   "cell_type": "code",
   "execution_count": 332,
   "metadata": {},
   "outputs": [
    {
     "data": {
      "text/html": [
       "<div>\n",
       "<style scoped>\n",
       "    .dataframe tbody tr th:only-of-type {\n",
       "        vertical-align: middle;\n",
       "    }\n",
       "\n",
       "    .dataframe tbody tr th {\n",
       "        vertical-align: top;\n",
       "    }\n",
       "\n",
       "    .dataframe thead th {\n",
       "        text-align: right;\n",
       "    }\n",
       "</style>\n",
       "<table border=\"1\" class=\"dataframe\">\n",
       "  <thead>\n",
       "    <tr style=\"text-align: right;\">\n",
       "      <th></th>\n",
       "      <th>product_id</th>\n",
       "      <th>product_name</th>\n",
       "      <th>aisle_id</th>\n",
       "      <th>department_id</th>\n",
       "    </tr>\n",
       "  </thead>\n",
       "  <tbody>\n",
       "    <tr>\n",
       "      <th>0</th>\n",
       "      <td>1</td>\n",
       "      <td>Chocolate Sandwich Cookies</td>\n",
       "      <td>61</td>\n",
       "      <td>19</td>\n",
       "    </tr>\n",
       "    <tr>\n",
       "      <th>1</th>\n",
       "      <td>2</td>\n",
       "      <td>All-Seasons Salt</td>\n",
       "      <td>104</td>\n",
       "      <td>13</td>\n",
       "    </tr>\n",
       "    <tr>\n",
       "      <th>2</th>\n",
       "      <td>3</td>\n",
       "      <td>Robust Golden Unsweetened Oolong Tea</td>\n",
       "      <td>94</td>\n",
       "      <td>7</td>\n",
       "    </tr>\n",
       "    <tr>\n",
       "      <th>3</th>\n",
       "      <td>4</td>\n",
       "      <td>Smart Ones Classic Favorites Mini Rigatoni Wit...</td>\n",
       "      <td>38</td>\n",
       "      <td>1</td>\n",
       "    </tr>\n",
       "    <tr>\n",
       "      <th>4</th>\n",
       "      <td>5</td>\n",
       "      <td>Green Chile Anytime Sauce</td>\n",
       "      <td>5</td>\n",
       "      <td>13</td>\n",
       "    </tr>\n",
       "  </tbody>\n",
       "</table>\n",
       "</div>"
      ],
      "text/plain": [
       "   product_id                                       product_name  aisle_id  \\\n",
       "0           1                         Chocolate Sandwich Cookies        61   \n",
       "1           2                                   All-Seasons Salt       104   \n",
       "2           3               Robust Golden Unsweetened Oolong Tea        94   \n",
       "3           4  Smart Ones Classic Favorites Mini Rigatoni Wit...        38   \n",
       "4           5                          Green Chile Anytime Sauce         5   \n",
       "\n",
       "   department_id  \n",
       "0             19  \n",
       "1             13  \n",
       "2              7  \n",
       "3              1  \n",
       "4             13  "
      ]
     },
     "execution_count": 332,
     "metadata": {},
     "output_type": "execute_result"
    }
   ],
   "source": [
    "products_df = pd.read_csv('../data/common/products.csv')\n",
    "products_df.head()"
   ]
  },
  {
   "cell_type": "code",
   "execution_count": 333,
   "metadata": {},
   "outputs": [],
   "source": [
    "p_df = p_df.merge(products_df, how='left', on='product_id')"
   ]
  },
  {
   "cell_type": "code",
   "execution_count": 336,
   "metadata": {},
   "outputs": [
    {
     "data": {
      "text/html": [
       "<div>\n",
       "<style scoped>\n",
       "    .dataframe tbody tr th:only-of-type {\n",
       "        vertical-align: middle;\n",
       "    }\n",
       "\n",
       "    .dataframe tbody tr th {\n",
       "        vertical-align: top;\n",
       "    }\n",
       "\n",
       "    .dataframe thead th {\n",
       "        text-align: right;\n",
       "    }\n",
       "</style>\n",
       "<table border=\"1\" class=\"dataframe\">\n",
       "  <thead>\n",
       "    <tr style=\"text-align: right;\">\n",
       "      <th></th>\n",
       "      <th>product_id</th>\n",
       "      <th>prob</th>\n",
       "      <th>product_name</th>\n",
       "      <th>aisle_id</th>\n",
       "      <th>department_id</th>\n",
       "    </tr>\n",
       "  </thead>\n",
       "  <tbody>\n",
       "    <tr>\n",
       "      <th>3</th>\n",
       "      <td>22046</td>\n",
       "      <td>0.642222</td>\n",
       "      <td>Frozen Whole Strawberries</td>\n",
       "      <td>116</td>\n",
       "      <td>1</td>\n",
       "    </tr>\n",
       "    <tr>\n",
       "      <th>12</th>\n",
       "      <td>5258</td>\n",
       "      <td>0.205645</td>\n",
       "      <td>Sparkling Water</td>\n",
       "      <td>115</td>\n",
       "      <td>7</td>\n",
       "    </tr>\n",
       "    <tr>\n",
       "      <th>5</th>\n",
       "      <td>13176</td>\n",
       "      <td>0.124902</td>\n",
       "      <td>Bag of Organic Bananas</td>\n",
       "      <td>24</td>\n",
       "      <td>4</td>\n",
       "    </tr>\n",
       "    <tr>\n",
       "      <th>6</th>\n",
       "      <td>30827</td>\n",
       "      <td>0.101226</td>\n",
       "      <td>Seedless Cucumbers</td>\n",
       "      <td>32</td>\n",
       "      <td>4</td>\n",
       "    </tr>\n",
       "    <tr>\n",
       "      <th>10</th>\n",
       "      <td>26348</td>\n",
       "      <td>0.073586</td>\n",
       "      <td>Mixed Fruit Fruit Snacks</td>\n",
       "      <td>50</td>\n",
       "      <td>19</td>\n",
       "    </tr>\n",
       "    <tr>\n",
       "      <th>4</th>\n",
       "      <td>8859</td>\n",
       "      <td>0.066379</td>\n",
       "      <td>Natural Spring Water</td>\n",
       "      <td>115</td>\n",
       "      <td>7</td>\n",
       "    </tr>\n",
       "    <tr>\n",
       "      <th>1</th>\n",
       "      <td>12341</td>\n",
       "      <td>0.065523</td>\n",
       "      <td>Hass Avocados</td>\n",
       "      <td>32</td>\n",
       "      <td>4</td>\n",
       "    </tr>\n",
       "    <tr>\n",
       "      <th>17</th>\n",
       "      <td>27885</td>\n",
       "      <td>0.065380</td>\n",
       "      <td>Malbec</td>\n",
       "      <td>28</td>\n",
       "      <td>5</td>\n",
       "    </tr>\n",
       "    <tr>\n",
       "      <th>11</th>\n",
       "      <td>33768</td>\n",
       "      <td>0.049367</td>\n",
       "      <td>Sinfully Sweet Campari Tomatoes</td>\n",
       "      <td>83</td>\n",
       "      <td>4</td>\n",
       "    </tr>\n",
       "    <tr>\n",
       "      <th>14</th>\n",
       "      <td>33065</td>\n",
       "      <td>0.048476</td>\n",
       "      <td>Cabernet Sauvignon</td>\n",
       "      <td>28</td>\n",
       "      <td>5</td>\n",
       "    </tr>\n",
       "    <tr>\n",
       "      <th>16</th>\n",
       "      <td>19801</td>\n",
       "      <td>0.047501</td>\n",
       "      <td>Sauvignon Blanc Wine</td>\n",
       "      <td>62</td>\n",
       "      <td>5</td>\n",
       "    </tr>\n",
       "    <tr>\n",
       "      <th>2</th>\n",
       "      <td>12899</td>\n",
       "      <td>0.041584</td>\n",
       "      <td>Fresh Mozzarella All-Natural Sliced Cheese</td>\n",
       "      <td>21</td>\n",
       "      <td>16</td>\n",
       "    </tr>\n",
       "    <tr>\n",
       "      <th>7</th>\n",
       "      <td>31759</td>\n",
       "      <td>0.040657</td>\n",
       "      <td>Cherrios Honey Nut</td>\n",
       "      <td>121</td>\n",
       "      <td>14</td>\n",
       "    </tr>\n",
       "    <tr>\n",
       "      <th>15</th>\n",
       "      <td>9086</td>\n",
       "      <td>0.040624</td>\n",
       "      <td>Riesling, Colombia Valley, Vintage 2013</td>\n",
       "      <td>62</td>\n",
       "      <td>5</td>\n",
       "    </tr>\n",
       "    <tr>\n",
       "      <th>9</th>\n",
       "      <td>41400</td>\n",
       "      <td>0.038434</td>\n",
       "      <td>Crunchy Oats 'n Honey Granola Bars</td>\n",
       "      <td>3</td>\n",
       "      <td>19</td>\n",
       "    </tr>\n",
       "    <tr>\n",
       "      <th>8</th>\n",
       "      <td>11365</td>\n",
       "      <td>0.037213</td>\n",
       "      <td>Leaf Spinach</td>\n",
       "      <td>32</td>\n",
       "      <td>4</td>\n",
       "    </tr>\n",
       "    <tr>\n",
       "      <th>0</th>\n",
       "      <td>4913</td>\n",
       "      <td>0.036324</td>\n",
       "      <td>Table Water Crackers</td>\n",
       "      <td>78</td>\n",
       "      <td>19</td>\n",
       "    </tr>\n",
       "    <tr>\n",
       "      <th>13</th>\n",
       "      <td>35267</td>\n",
       "      <td>0.030679</td>\n",
       "      <td>Organic Granny Smith Apples</td>\n",
       "      <td>24</td>\n",
       "      <td>4</td>\n",
       "    </tr>\n",
       "  </tbody>\n",
       "</table>\n",
       "</div>"
      ],
      "text/plain": [
       "    product_id      prob                                product_name  \\\n",
       "3        22046  0.642222                   Frozen Whole Strawberries   \n",
       "12        5258  0.205645                             Sparkling Water   \n",
       "5        13176  0.124902                      Bag of Organic Bananas   \n",
       "6        30827  0.101226                          Seedless Cucumbers   \n",
       "10       26348  0.073586                    Mixed Fruit Fruit Snacks   \n",
       "4         8859  0.066379                        Natural Spring Water   \n",
       "1        12341  0.065523                               Hass Avocados   \n",
       "17       27885  0.065380                                      Malbec   \n",
       "11       33768  0.049367             Sinfully Sweet Campari Tomatoes   \n",
       "14       33065  0.048476                          Cabernet Sauvignon   \n",
       "16       19801  0.047501                        Sauvignon Blanc Wine   \n",
       "2        12899  0.041584  Fresh Mozzarella All-Natural Sliced Cheese   \n",
       "7        31759  0.040657                          Cherrios Honey Nut   \n",
       "15        9086  0.040624     Riesling, Colombia Valley, Vintage 2013   \n",
       "9        41400  0.038434          Crunchy Oats 'n Honey Granola Bars   \n",
       "8        11365  0.037213                                Leaf Spinach   \n",
       "0         4913  0.036324                        Table Water Crackers   \n",
       "13       35267  0.030679                 Organic Granny Smith Apples   \n",
       "\n",
       "    aisle_id  department_id  \n",
       "3        116              1  \n",
       "12       115              7  \n",
       "5         24              4  \n",
       "6         32              4  \n",
       "10        50             19  \n",
       "4        115              7  \n",
       "1         32              4  \n",
       "17        28              5  \n",
       "11        83              4  \n",
       "14        28              5  \n",
       "16        62              5  \n",
       "2         21             16  \n",
       "7        121             14  \n",
       "15        62              5  \n",
       "9          3             19  \n",
       "8         32              4  \n",
       "0         78             19  \n",
       "13        24              4  "
      ]
     },
     "execution_count": 336,
     "metadata": {},
     "output_type": "execute_result"
    }
   ],
   "source": [
    "p_df.sort_values(by='prob', ascending=False)"
   ]
  },
  {
   "cell_type": "code",
   "execution_count": null,
   "metadata": {},
   "outputs": [],
   "source": []
  }
 ],
 "metadata": {
  "kernelspec": {
   "display_name": "Python 3",
   "language": "python",
   "name": "python3"
  },
  "language_info": {
   "codemirror_mode": {
    "name": "ipython",
    "version": 3
   },
   "file_extension": ".py",
   "mimetype": "text/x-python",
   "name": "python",
   "nbconvert_exporter": "python",
   "pygments_lexer": "ipython3",
   "version": "3.7.1"
  }
 },
 "nbformat": 4,
 "nbformat_minor": 2
}
