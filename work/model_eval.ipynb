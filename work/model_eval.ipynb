{
 "cells": [
  {
   "cell_type": "code",
   "execution_count": 2,
   "metadata": {},
   "outputs": [],
   "source": [
    "# Janky xgboost fix\n",
    "import os\n",
    "os.environ['KMP_DUPLICATE_LIB_OK']='True'"
   ]
  },
  {
   "cell_type": "code",
   "execution_count": 3,
   "metadata": {},
   "outputs": [],
   "source": [
    "import pandas as pd\n",
    "import numpy as np\n",
    "import re\n",
    "import os.path\n",
    "import xgboost as xgb\n",
    "import imblearn.over_sampling\n",
    "import seaborn as sns\n",
    "from sklearn.linear_model import LogisticRegression\n",
    "from sklearn.metrics import f1_score, precision_score, recall_score\n",
    "from sklearn.ensemble import RandomForestClassifier\n",
    "from sklearn.neighbors import KNeighborsClassifier\n",
    "\n",
    "%matplotlib inline"
   ]
  },
  {
   "cell_type": "markdown",
   "metadata": {},
   "source": [
    "### Load Data"
   ]
  },
  {
   "cell_type": "code",
   "execution_count": 4,
   "metadata": {},
   "outputs": [],
   "source": [
    "order_path = '../data/subset/'\n",
    "common_path = '../data/common/'"
   ]
  },
  {
   "cell_type": "code",
   "execution_count": 5,
   "metadata": {},
   "outputs": [
    {
     "data": {
      "text/html": [
       "<div>\n",
       "<style scoped>\n",
       "    .dataframe tbody tr th:only-of-type {\n",
       "        vertical-align: middle;\n",
       "    }\n",
       "\n",
       "    .dataframe tbody tr th {\n",
       "        vertical-align: top;\n",
       "    }\n",
       "\n",
       "    .dataframe thead th {\n",
       "        text-align: right;\n",
       "    }\n",
       "</style>\n",
       "<table border=\"1\" class=\"dataframe\">\n",
       "  <thead>\n",
       "    <tr style=\"text-align: right;\">\n",
       "      <th></th>\n",
       "      <th>order_id</th>\n",
       "      <th>user_id</th>\n",
       "      <th>eval_set</th>\n",
       "      <th>order_number</th>\n",
       "      <th>order_dow</th>\n",
       "      <th>order_hour_of_day</th>\n",
       "      <th>days_since_prior_order</th>\n",
       "    </tr>\n",
       "  </thead>\n",
       "  <tbody>\n",
       "    <tr>\n",
       "      <th>0</th>\n",
       "      <td>1363380</td>\n",
       "      <td>50</td>\n",
       "      <td>prior</td>\n",
       "      <td>1</td>\n",
       "      <td>3</td>\n",
       "      <td>9</td>\n",
       "      <td>NaN</td>\n",
       "    </tr>\n",
       "    <tr>\n",
       "      <th>1</th>\n",
       "      <td>3131103</td>\n",
       "      <td>50</td>\n",
       "      <td>prior</td>\n",
       "      <td>2</td>\n",
       "      <td>6</td>\n",
       "      <td>12</td>\n",
       "      <td>10.0</td>\n",
       "    </tr>\n",
       "    <tr>\n",
       "      <th>2</th>\n",
       "      <td>2197066</td>\n",
       "      <td>50</td>\n",
       "      <td>prior</td>\n",
       "      <td>3</td>\n",
       "      <td>1</td>\n",
       "      <td>13</td>\n",
       "      <td>9.0</td>\n",
       "    </tr>\n",
       "    <tr>\n",
       "      <th>3</th>\n",
       "      <td>3201640</td>\n",
       "      <td>50</td>\n",
       "      <td>prior</td>\n",
       "      <td>4</td>\n",
       "      <td>0</td>\n",
       "      <td>11</td>\n",
       "      <td>6.0</td>\n",
       "    </tr>\n",
       "    <tr>\n",
       "      <th>4</th>\n",
       "      <td>2756806</td>\n",
       "      <td>50</td>\n",
       "      <td>prior</td>\n",
       "      <td>5</td>\n",
       "      <td>4</td>\n",
       "      <td>14</td>\n",
       "      <td>11.0</td>\n",
       "    </tr>\n",
       "  </tbody>\n",
       "</table>\n",
       "</div>"
      ],
      "text/plain": [
       "   order_id  user_id eval_set  order_number  order_dow  order_hour_of_day  \\\n",
       "0   1363380       50    prior             1          3                  9   \n",
       "1   3131103       50    prior             2          6                 12   \n",
       "2   2197066       50    prior             3          1                 13   \n",
       "3   3201640       50    prior             4          0                 11   \n",
       "4   2756806       50    prior             5          4                 14   \n",
       "\n",
       "   days_since_prior_order  \n",
       "0                     NaN  \n",
       "1                    10.0  \n",
       "2                     9.0  \n",
       "3                     6.0  \n",
       "4                    11.0  "
      ]
     },
     "execution_count": 5,
     "metadata": {},
     "output_type": "execute_result"
    }
   ],
   "source": [
    "orders_df = pd.read_csv(os.path.join(order_path, 'orders.csv'))\n",
    "orders_df.head()"
   ]
  },
  {
   "cell_type": "code",
   "execution_count": 6,
   "metadata": {},
   "outputs": [
    {
     "data": {
      "text/html": [
       "<div>\n",
       "<style scoped>\n",
       "    .dataframe tbody tr th:only-of-type {\n",
       "        vertical-align: middle;\n",
       "    }\n",
       "\n",
       "    .dataframe tbody tr th {\n",
       "        vertical-align: top;\n",
       "    }\n",
       "\n",
       "    .dataframe thead th {\n",
       "        text-align: right;\n",
       "    }\n",
       "</style>\n",
       "<table border=\"1\" class=\"dataframe\">\n",
       "  <thead>\n",
       "    <tr style=\"text-align: right;\">\n",
       "      <th></th>\n",
       "      <th>order_id</th>\n",
       "      <th>product_id</th>\n",
       "      <th>add_to_cart_order</th>\n",
       "      <th>reordered</th>\n",
       "    </tr>\n",
       "  </thead>\n",
       "  <tbody>\n",
       "    <tr>\n",
       "      <th>0</th>\n",
       "      <td>12</td>\n",
       "      <td>30597</td>\n",
       "      <td>1</td>\n",
       "      <td>1</td>\n",
       "    </tr>\n",
       "    <tr>\n",
       "      <th>1</th>\n",
       "      <td>12</td>\n",
       "      <td>15221</td>\n",
       "      <td>2</td>\n",
       "      <td>1</td>\n",
       "    </tr>\n",
       "    <tr>\n",
       "      <th>2</th>\n",
       "      <td>12</td>\n",
       "      <td>43772</td>\n",
       "      <td>3</td>\n",
       "      <td>1</td>\n",
       "    </tr>\n",
       "    <tr>\n",
       "      <th>3</th>\n",
       "      <td>12</td>\n",
       "      <td>37886</td>\n",
       "      <td>4</td>\n",
       "      <td>1</td>\n",
       "    </tr>\n",
       "    <tr>\n",
       "      <th>4</th>\n",
       "      <td>12</td>\n",
       "      <td>37215</td>\n",
       "      <td>5</td>\n",
       "      <td>0</td>\n",
       "    </tr>\n",
       "  </tbody>\n",
       "</table>\n",
       "</div>"
      ],
      "text/plain": [
       "   order_id  product_id  add_to_cart_order  reordered\n",
       "0        12       30597                  1          1\n",
       "1        12       15221                  2          1\n",
       "2        12       43772                  3          1\n",
       "3        12       37886                  4          1\n",
       "4        12       37215                  5          0"
      ]
     },
     "execution_count": 6,
     "metadata": {},
     "output_type": "execute_result"
    }
   ],
   "source": [
    "orders_prior_df = pd.read_csv(os.path.join(order_path, 'order_products__prior.csv'))\n",
    "orders_prior_df.head()"
   ]
  },
  {
   "cell_type": "code",
   "execution_count": 7,
   "metadata": {},
   "outputs": [
    {
     "data": {
      "text/html": [
       "<div>\n",
       "<style scoped>\n",
       "    .dataframe tbody tr th:only-of-type {\n",
       "        vertical-align: middle;\n",
       "    }\n",
       "\n",
       "    .dataframe tbody tr th {\n",
       "        vertical-align: top;\n",
       "    }\n",
       "\n",
       "    .dataframe thead th {\n",
       "        text-align: right;\n",
       "    }\n",
       "</style>\n",
       "<table border=\"1\" class=\"dataframe\">\n",
       "  <thead>\n",
       "    <tr style=\"text-align: right;\">\n",
       "      <th></th>\n",
       "      <th>order_id</th>\n",
       "      <th>product_id</th>\n",
       "      <th>add_to_cart_order</th>\n",
       "      <th>reordered</th>\n",
       "    </tr>\n",
       "  </thead>\n",
       "  <tbody>\n",
       "    <tr>\n",
       "      <th>0</th>\n",
       "      <td>1077</td>\n",
       "      <td>13176</td>\n",
       "      <td>1</td>\n",
       "      <td>1</td>\n",
       "    </tr>\n",
       "    <tr>\n",
       "      <th>1</th>\n",
       "      <td>1077</td>\n",
       "      <td>39922</td>\n",
       "      <td>2</td>\n",
       "      <td>1</td>\n",
       "    </tr>\n",
       "    <tr>\n",
       "      <th>2</th>\n",
       "      <td>1077</td>\n",
       "      <td>5258</td>\n",
       "      <td>3</td>\n",
       "      <td>1</td>\n",
       "    </tr>\n",
       "    <tr>\n",
       "      <th>3</th>\n",
       "      <td>1077</td>\n",
       "      <td>21137</td>\n",
       "      <td>4</td>\n",
       "      <td>1</td>\n",
       "    </tr>\n",
       "    <tr>\n",
       "      <th>4</th>\n",
       "      <td>1119</td>\n",
       "      <td>6046</td>\n",
       "      <td>1</td>\n",
       "      <td>1</td>\n",
       "    </tr>\n",
       "  </tbody>\n",
       "</table>\n",
       "</div>"
      ],
      "text/plain": [
       "   order_id  product_id  add_to_cart_order  reordered\n",
       "0      1077       13176                  1          1\n",
       "1      1077       39922                  2          1\n",
       "2      1077        5258                  3          1\n",
       "3      1077       21137                  4          1\n",
       "4      1119        6046                  1          1"
      ]
     },
     "execution_count": 7,
     "metadata": {},
     "output_type": "execute_result"
    }
   ],
   "source": [
    "orders_train_df = pd.read_csv(os.path.join(order_path, 'order_products__train.csv'))\n",
    "orders_train_df.head()"
   ]
  },
  {
   "cell_type": "code",
   "execution_count": 8,
   "metadata": {},
   "outputs": [
    {
     "data": {
      "text/html": [
       "<div>\n",
       "<style scoped>\n",
       "    .dataframe tbody tr th:only-of-type {\n",
       "        vertical-align: middle;\n",
       "    }\n",
       "\n",
       "    .dataframe tbody tr th {\n",
       "        vertical-align: top;\n",
       "    }\n",
       "\n",
       "    .dataframe thead th {\n",
       "        text-align: right;\n",
       "    }\n",
       "</style>\n",
       "<table border=\"1\" class=\"dataframe\">\n",
       "  <thead>\n",
       "    <tr style=\"text-align: right;\">\n",
       "      <th></th>\n",
       "      <th>department_id</th>\n",
       "      <th>department</th>\n",
       "    </tr>\n",
       "  </thead>\n",
       "  <tbody>\n",
       "    <tr>\n",
       "      <th>0</th>\n",
       "      <td>1</td>\n",
       "      <td>frozen</td>\n",
       "    </tr>\n",
       "    <tr>\n",
       "      <th>1</th>\n",
       "      <td>2</td>\n",
       "      <td>other</td>\n",
       "    </tr>\n",
       "    <tr>\n",
       "      <th>2</th>\n",
       "      <td>3</td>\n",
       "      <td>bakery</td>\n",
       "    </tr>\n",
       "    <tr>\n",
       "      <th>3</th>\n",
       "      <td>4</td>\n",
       "      <td>produce</td>\n",
       "    </tr>\n",
       "    <tr>\n",
       "      <th>4</th>\n",
       "      <td>5</td>\n",
       "      <td>alcohol</td>\n",
       "    </tr>\n",
       "  </tbody>\n",
       "</table>\n",
       "</div>"
      ],
      "text/plain": [
       "   department_id department\n",
       "0              1     frozen\n",
       "1              2      other\n",
       "2              3     bakery\n",
       "3              4    produce\n",
       "4              5    alcohol"
      ]
     },
     "execution_count": 8,
     "metadata": {},
     "output_type": "execute_result"
    }
   ],
   "source": [
    "depts_df = pd.read_csv(os.path.join(common_path, 'departments.csv'))\n",
    "depts_df.head()"
   ]
  },
  {
   "cell_type": "code",
   "execution_count": 9,
   "metadata": {},
   "outputs": [
    {
     "data": {
      "text/html": [
       "<div>\n",
       "<style scoped>\n",
       "    .dataframe tbody tr th:only-of-type {\n",
       "        vertical-align: middle;\n",
       "    }\n",
       "\n",
       "    .dataframe tbody tr th {\n",
       "        vertical-align: top;\n",
       "    }\n",
       "\n",
       "    .dataframe thead th {\n",
       "        text-align: right;\n",
       "    }\n",
       "</style>\n",
       "<table border=\"1\" class=\"dataframe\">\n",
       "  <thead>\n",
       "    <tr style=\"text-align: right;\">\n",
       "      <th></th>\n",
       "      <th>aisle_id</th>\n",
       "      <th>aisle</th>\n",
       "    </tr>\n",
       "  </thead>\n",
       "  <tbody>\n",
       "    <tr>\n",
       "      <th>0</th>\n",
       "      <td>1</td>\n",
       "      <td>prepared soups salads</td>\n",
       "    </tr>\n",
       "    <tr>\n",
       "      <th>1</th>\n",
       "      <td>2</td>\n",
       "      <td>specialty cheeses</td>\n",
       "    </tr>\n",
       "    <tr>\n",
       "      <th>2</th>\n",
       "      <td>3</td>\n",
       "      <td>energy granola bars</td>\n",
       "    </tr>\n",
       "    <tr>\n",
       "      <th>3</th>\n",
       "      <td>4</td>\n",
       "      <td>instant foods</td>\n",
       "    </tr>\n",
       "    <tr>\n",
       "      <th>4</th>\n",
       "      <td>5</td>\n",
       "      <td>marinades meat preparation</td>\n",
       "    </tr>\n",
       "  </tbody>\n",
       "</table>\n",
       "</div>"
      ],
      "text/plain": [
       "   aisle_id                       aisle\n",
       "0         1       prepared soups salads\n",
       "1         2           specialty cheeses\n",
       "2         3         energy granola bars\n",
       "3         4               instant foods\n",
       "4         5  marinades meat preparation"
      ]
     },
     "execution_count": 9,
     "metadata": {},
     "output_type": "execute_result"
    }
   ],
   "source": [
    "aisles_df = pd.read_csv(os.path.join(common_path, 'aisles.csv'))\n",
    "aisles_df.head()"
   ]
  },
  {
   "cell_type": "code",
   "execution_count": 10,
   "metadata": {},
   "outputs": [
    {
     "data": {
      "text/html": [
       "<div>\n",
       "<style scoped>\n",
       "    .dataframe tbody tr th:only-of-type {\n",
       "        vertical-align: middle;\n",
       "    }\n",
       "\n",
       "    .dataframe tbody tr th {\n",
       "        vertical-align: top;\n",
       "    }\n",
       "\n",
       "    .dataframe thead th {\n",
       "        text-align: right;\n",
       "    }\n",
       "</style>\n",
       "<table border=\"1\" class=\"dataframe\">\n",
       "  <thead>\n",
       "    <tr style=\"text-align: right;\">\n",
       "      <th></th>\n",
       "      <th>product_id</th>\n",
       "      <th>product_name</th>\n",
       "      <th>aisle_id</th>\n",
       "      <th>department_id</th>\n",
       "    </tr>\n",
       "  </thead>\n",
       "  <tbody>\n",
       "    <tr>\n",
       "      <th>0</th>\n",
       "      <td>1</td>\n",
       "      <td>Chocolate Sandwich Cookies</td>\n",
       "      <td>61</td>\n",
       "      <td>19</td>\n",
       "    </tr>\n",
       "    <tr>\n",
       "      <th>1</th>\n",
       "      <td>2</td>\n",
       "      <td>All-Seasons Salt</td>\n",
       "      <td>104</td>\n",
       "      <td>13</td>\n",
       "    </tr>\n",
       "    <tr>\n",
       "      <th>2</th>\n",
       "      <td>3</td>\n",
       "      <td>Robust Golden Unsweetened Oolong Tea</td>\n",
       "      <td>94</td>\n",
       "      <td>7</td>\n",
       "    </tr>\n",
       "    <tr>\n",
       "      <th>3</th>\n",
       "      <td>4</td>\n",
       "      <td>Smart Ones Classic Favorites Mini Rigatoni Wit...</td>\n",
       "      <td>38</td>\n",
       "      <td>1</td>\n",
       "    </tr>\n",
       "    <tr>\n",
       "      <th>4</th>\n",
       "      <td>5</td>\n",
       "      <td>Green Chile Anytime Sauce</td>\n",
       "      <td>5</td>\n",
       "      <td>13</td>\n",
       "    </tr>\n",
       "  </tbody>\n",
       "</table>\n",
       "</div>"
      ],
      "text/plain": [
       "   product_id                                       product_name  aisle_id  \\\n",
       "0           1                         Chocolate Sandwich Cookies        61   \n",
       "1           2                                   All-Seasons Salt       104   \n",
       "2           3               Robust Golden Unsweetened Oolong Tea        94   \n",
       "3           4  Smart Ones Classic Favorites Mini Rigatoni Wit...        38   \n",
       "4           5                          Green Chile Anytime Sauce         5   \n",
       "\n",
       "   department_id  \n",
       "0             19  \n",
       "1             13  \n",
       "2              7  \n",
       "3              1  \n",
       "4             13  "
      ]
     },
     "execution_count": 10,
     "metadata": {},
     "output_type": "execute_result"
    }
   ],
   "source": [
    "products_df = pd.read_csv(os.path.join(common_path, 'products.csv'))\n",
    "products_df.head()"
   ]
  },
  {
   "cell_type": "markdown",
   "metadata": {},
   "source": [
    "### Merge Product Dataframes"
   ]
  },
  {
   "cell_type": "code",
   "execution_count": 11,
   "metadata": {},
   "outputs": [
    {
     "data": {
      "text/html": [
       "<div>\n",
       "<style scoped>\n",
       "    .dataframe tbody tr th:only-of-type {\n",
       "        vertical-align: middle;\n",
       "    }\n",
       "\n",
       "    .dataframe tbody tr th {\n",
       "        vertical-align: top;\n",
       "    }\n",
       "\n",
       "    .dataframe thead th {\n",
       "        text-align: right;\n",
       "    }\n",
       "</style>\n",
       "<table border=\"1\" class=\"dataframe\">\n",
       "  <thead>\n",
       "    <tr style=\"text-align: right;\">\n",
       "      <th></th>\n",
       "      <th>product_id</th>\n",
       "      <th>product_name</th>\n",
       "      <th>aisle</th>\n",
       "      <th>department</th>\n",
       "    </tr>\n",
       "  </thead>\n",
       "  <tbody>\n",
       "    <tr>\n",
       "      <th>0</th>\n",
       "      <td>1</td>\n",
       "      <td>Chocolate Sandwich Cookies</td>\n",
       "      <td>cookies cakes</td>\n",
       "      <td>snacks</td>\n",
       "    </tr>\n",
       "    <tr>\n",
       "      <th>1</th>\n",
       "      <td>2</td>\n",
       "      <td>All-Seasons Salt</td>\n",
       "      <td>spices seasonings</td>\n",
       "      <td>pantry</td>\n",
       "    </tr>\n",
       "    <tr>\n",
       "      <th>2</th>\n",
       "      <td>3</td>\n",
       "      <td>Robust Golden Unsweetened Oolong Tea</td>\n",
       "      <td>tea</td>\n",
       "      <td>beverages</td>\n",
       "    </tr>\n",
       "    <tr>\n",
       "      <th>3</th>\n",
       "      <td>4</td>\n",
       "      <td>Smart Ones Classic Favorites Mini Rigatoni Wit...</td>\n",
       "      <td>frozen meals</td>\n",
       "      <td>frozen</td>\n",
       "    </tr>\n",
       "    <tr>\n",
       "      <th>4</th>\n",
       "      <td>5</td>\n",
       "      <td>Green Chile Anytime Sauce</td>\n",
       "      <td>marinades meat preparation</td>\n",
       "      <td>pantry</td>\n",
       "    </tr>\n",
       "  </tbody>\n",
       "</table>\n",
       "</div>"
      ],
      "text/plain": [
       "   product_id                                       product_name  \\\n",
       "0           1                         Chocolate Sandwich Cookies   \n",
       "1           2                                   All-Seasons Salt   \n",
       "2           3               Robust Golden Unsweetened Oolong Tea   \n",
       "3           4  Smart Ones Classic Favorites Mini Rigatoni Wit...   \n",
       "4           5                          Green Chile Anytime Sauce   \n",
       "\n",
       "                        aisle department  \n",
       "0               cookies cakes     snacks  \n",
       "1           spices seasonings     pantry  \n",
       "2                         tea  beverages  \n",
       "3                frozen meals     frozen  \n",
       "4  marinades meat preparation     pantry  "
      ]
     },
     "execution_count": 11,
     "metadata": {},
     "output_type": "execute_result"
    }
   ],
   "source": [
    "products_df = products_df.merge(aisles_df, how='left', on='aisle_id')\n",
    "products_df = products_df.merge(depts_df, how='left', on='department_id')\n",
    "products_df.drop(['aisle_id', 'department_id'], axis=1, inplace=True)\n",
    "products_df.head()"
   ]
  },
  {
   "cell_type": "code",
   "execution_count": 12,
   "metadata": {},
   "outputs": [
    {
     "data": {
      "text/html": [
       "<div>\n",
       "<style scoped>\n",
       "    .dataframe tbody tr th:only-of-type {\n",
       "        vertical-align: middle;\n",
       "    }\n",
       "\n",
       "    .dataframe tbody tr th {\n",
       "        vertical-align: top;\n",
       "    }\n",
       "\n",
       "    .dataframe thead th {\n",
       "        text-align: right;\n",
       "    }\n",
       "</style>\n",
       "<table border=\"1\" class=\"dataframe\">\n",
       "  <thead>\n",
       "    <tr style=\"text-align: right;\">\n",
       "      <th></th>\n",
       "      <th>order_id</th>\n",
       "      <th>product_id</th>\n",
       "      <th>add_to_cart_order</th>\n",
       "      <th>reordered</th>\n",
       "      <th>user_id</th>\n",
       "      <th>order_number</th>\n",
       "      <th>order_dow</th>\n",
       "      <th>order_hour_of_day</th>\n",
       "      <th>days_since_prior_order</th>\n",
       "    </tr>\n",
       "  </thead>\n",
       "  <tbody>\n",
       "    <tr>\n",
       "      <th>0</th>\n",
       "      <td>12</td>\n",
       "      <td>30597</td>\n",
       "      <td>1</td>\n",
       "      <td>1</td>\n",
       "      <td>152610</td>\n",
       "      <td>22</td>\n",
       "      <td>6</td>\n",
       "      <td>8</td>\n",
       "      <td>10.0</td>\n",
       "    </tr>\n",
       "    <tr>\n",
       "      <th>1</th>\n",
       "      <td>12</td>\n",
       "      <td>15221</td>\n",
       "      <td>2</td>\n",
       "      <td>1</td>\n",
       "      <td>152610</td>\n",
       "      <td>22</td>\n",
       "      <td>6</td>\n",
       "      <td>8</td>\n",
       "      <td>10.0</td>\n",
       "    </tr>\n",
       "    <tr>\n",
       "      <th>2</th>\n",
       "      <td>12</td>\n",
       "      <td>43772</td>\n",
       "      <td>3</td>\n",
       "      <td>1</td>\n",
       "      <td>152610</td>\n",
       "      <td>22</td>\n",
       "      <td>6</td>\n",
       "      <td>8</td>\n",
       "      <td>10.0</td>\n",
       "    </tr>\n",
       "    <tr>\n",
       "      <th>3</th>\n",
       "      <td>12</td>\n",
       "      <td>37886</td>\n",
       "      <td>4</td>\n",
       "      <td>1</td>\n",
       "      <td>152610</td>\n",
       "      <td>22</td>\n",
       "      <td>6</td>\n",
       "      <td>8</td>\n",
       "      <td>10.0</td>\n",
       "    </tr>\n",
       "    <tr>\n",
       "      <th>4</th>\n",
       "      <td>12</td>\n",
       "      <td>37215</td>\n",
       "      <td>5</td>\n",
       "      <td>0</td>\n",
       "      <td>152610</td>\n",
       "      <td>22</td>\n",
       "      <td>6</td>\n",
       "      <td>8</td>\n",
       "      <td>10.0</td>\n",
       "    </tr>\n",
       "  </tbody>\n",
       "</table>\n",
       "</div>"
      ],
      "text/plain": [
       "   order_id  product_id  add_to_cart_order  reordered  user_id  order_number  \\\n",
       "0        12       30597                  1          1   152610            22   \n",
       "1        12       15221                  2          1   152610            22   \n",
       "2        12       43772                  3          1   152610            22   \n",
       "3        12       37886                  4          1   152610            22   \n",
       "4        12       37215                  5          0   152610            22   \n",
       "\n",
       "   order_dow  order_hour_of_day  days_since_prior_order  \n",
       "0          6                  8                    10.0  \n",
       "1          6                  8                    10.0  \n",
       "2          6                  8                    10.0  \n",
       "3          6                  8                    10.0  \n",
       "4          6                  8                    10.0  "
      ]
     },
     "execution_count": 12,
     "metadata": {},
     "output_type": "execute_result"
    }
   ],
   "source": [
    "orders_prior_df = orders_prior_df.merge(orders_df.drop('eval_set', axis=1), on='order_id')\n",
    "orders_train_df = orders_train_df.merge(orders_df.drop('eval_set', axis=1), on='order_id')\n",
    "orders_prior_df.head()"
   ]
  },
  {
   "cell_type": "markdown",
   "metadata": {},
   "source": [
    "### Merge Cart-level DataFrame"
   ]
  },
  {
   "cell_type": "code",
   "execution_count": 113,
   "metadata": {},
   "outputs": [],
   "source": [
    "user_product_prior_df = (orders_prior_df.groupby(['product_id', 'user_id'], as_index=False)\n",
    "                                        .agg({'order_id':'nunique',\n",
    "                                              'add_to_cart_order':'mean',\n",
    "                                              'order_dow':'mean',\n",
    "                                              'order_hour_of_day':'mean'})\n",
    "                                        .rename(columns={'order_id':'count_in_user_orders',\n",
    "                                                         'add_to_cart_order':'prior_cart_add_order',\n",
    "                                                         'order_dow':'prior_order_dow',\n",
    "                                                         'order_hour_of_day':'prior_order_hour'}))\n",
    "\n",
    "train_users = orders_train_df['user_id'].unique()\n",
    "user_product_df = user_product_prior_df[user_product_prior_df['user_id'].isin(train_users)]\n",
    "user_product_df.reset_index(drop=True, inplace=True)\n",
    "\n",
    "orders_prior_per_user_df = orders_prior_df.groupby(['user_id'])[['order_id']].nunique()\n",
    "orders_prior_per_user_df.rename(columns={'order_id':'total_user_orders'}, inplace=True)\n",
    "user_product_df = user_product_prior_df.merge(orders_prior_per_user_df, on='user_id')\n",
    "user_product_df['percent_in_user_orders'] = (user_product_df['count_in_user_orders'] /\n",
    "                                             user_product_df['total_user_orders'])\n",
    "#user_product_df.head()"
   ]
  },
  {
   "cell_type": "code",
   "execution_count": 114,
   "metadata": {},
   "outputs": [],
   "source": [
    "train_carts = (orders_train_df.groupby('user_id')\n",
    "                              .agg({'product_id':(lambda x: set(x)),\n",
    "                                    'order_dow':'first',\n",
    "                                    'order_hour_of_day':'first'})\n",
    "                              .rename(columns={'product_id':'cart_contents',\n",
    "                                               'order_hour_of_day':'order_hour'}))\n",
    "\n",
    "user_product_df = user_product_df.merge(train_carts, on='user_id')\n",
    "user_product_df['in_cart'] =\\\n",
    "    (user_product_df.apply(lambda row: row['product_id'] in row['cart_contents'], axis=1)\n",
    "                    .astype(int))\n",
    "\n",
    "#user_product_df.head()"
   ]
  },
  {
   "cell_type": "markdown",
   "metadata": {},
   "source": [
    "### Feature Engineering"
   ]
  },
  {
   "cell_type": "markdown",
   "metadata": {},
   "source": [
    "#### Feature: Product Overall Order Rate"
   ]
  },
  {
   "cell_type": "code",
   "execution_count": 115,
   "metadata": {},
   "outputs": [],
   "source": [
    "product_prior_df = (orders_prior_df.groupby(['product_id'], as_index=False)\n",
    "                                   .agg({'order_id':'nunique'})\n",
    "                                   .rename(columns={'order_id':'count_in_all_orders'})\n",
    "                                   .sort_values(by=['count_in_all_orders'], ascending=False)\n",
    "                                   .reset_index(drop=True))\n",
    "num_orders = orders_prior_df['order_id'].nunique()\n",
    "product_prior_df['percent_in_all_orders'] = product_prior_df['count_in_all_orders'] / num_orders\n",
    "#product_prior_df.head(10)\n",
    "user_product_df = user_product_df.merge(product_prior_df, on='product_id')"
   ]
  },
  {
   "cell_type": "markdown",
   "metadata": {},
   "source": [
    "#### Feature: Absolute Difference in Order Time"
   ]
  },
  {
   "cell_type": "code",
   "execution_count": 116,
   "metadata": {},
   "outputs": [],
   "source": [
    "user_product_df['order_dow_diff'] = np.abs(user_product_df['prior_order_dow'] -\n",
    "                                           user_product_df['order_dow'])\n",
    "user_product_df['order_hour_diff'] = np.abs(user_product_df['prior_order_hour'] -\n",
    "                                           user_product_df['order_hour'])"
   ]
  },
  {
   "cell_type": "markdown",
   "metadata": {},
   "source": [
    "#### Feature: In Last Cart"
   ]
  },
  {
   "cell_type": "code",
   "execution_count": 117,
   "metadata": {},
   "outputs": [],
   "source": [
    "mask = (orders_prior_df.sort_values(by='order_number')\n",
    "                       .groupby(['user_id'])['order_id']\n",
    "                       .last())\n",
    "last_cart_contents_df = (orders_prior_df[orders_prior_df['order_id'].isin(mask)]\n",
    "                    .groupby(['user_id'])['product_id'].unique())\n",
    "last_cart_contents_df = pd.DataFrame(last_cart_contents_df)\n",
    "last_cart_contents_df.rename(columns={'product_id':'last_cart_contents'}, inplace=True)\n",
    "\n",
    "user_product_df = user_product_df.merge(last_cart_contents_df, how='left', on='user_id')\n",
    "user_product_df['in_last_cart'] =\\\n",
    "    (user_product_df.apply(lambda row: row['product_id'] in row['last_cart_contents'], axis=1)\n",
    "                    .astype(int))"
   ]
  },
  {
   "cell_type": "markdown",
   "metadata": {},
   "source": [
    "### Feature: Days/Orders Since Last Order"
   ]
  },
  {
   "cell_type": "code",
   "execution_count": 229,
   "metadata": {},
   "outputs": [],
   "source": [
    "prior_order_nums_df = (orders_prior_df.groupby(['user_id', 'order_id'], as_index=False)\n",
    "                                      .agg({'order_number':'first',\n",
    "                                            'days_since_prior_order':'first'}))\n",
    "prior_order_nums_df = (prior_order_nums_df.drop('days_since_prior_order', axis=1)\n",
    "                                          .merge(prior_order_nums_df.drop('order_id', axis=1),\n",
    "                                                                          how='left',\n",
    "                                                                          on='user_id'))\n",
    "\n",
    "mask = prior_order_nums_df['order_number_x'] >= prior_order_nums_df['order_number_y']\n",
    "prior_order_nums_df = prior_order_nums_df[mask].drop(['user_id', 'order_number_y'], axis=1)\n",
    "prior_order_nums_df = (prior_order_nums_df.groupby(['order_id', 'order_number_x'],\n",
    "                                                   as_index=False)['days_since_prior_order']\n",
    "                                                   .sum())\n",
    "prior_order_nums_df.rename(columns={'days_since_prior_order':'days_since_first_order',\n",
    "                                    'order_number_x':'order_number'}, inplace=True)"
   ]
  },
  {
   "cell_type": "code",
   "execution_count": 240,
   "metadata": {},
   "outputs": [],
   "source": [
    "product_prior_since_df = orders_prior_df[['user_id', 'order_id', 'product_id']]\n",
    "product_prior_since_df = product_prior_since_df.merge(prior_order_nums_df,\n",
    "                                                      how='left',\n",
    "                                                      on='order_id')\n",
    "\n",
    "product_prior_since_df.sort_values(by=['user_id', 'product_id', 'order_number'], inplace=True)\n",
    "product_prior_since_df['last_order_number'] =\\\n",
    "    product_prior_since_df.groupby(['user_id', 'product_id'])['order_number'].shift(1)\n",
    "product_prior_since_df['last_days_since_first_order'] =\\\n",
    "    product_prior_since_df.groupby(['user_id', 'product_id'])['days_since_first_order'].shift(1)\n",
    "product_prior_since_df['orders_since_last'] = (product_prior_since_df['order_number'] -\n",
    "                                               product_prior_since_df['last_order_number'])\n",
    "product_prior_since_df['days_since_last'] = (product_prior_since_df['days_since_first_order'] -\n",
    "                                             product_prior_since_df['last_days_since_first_order'])\n",
    "\n",
    "product_prior_since_df = (product_prior_since_df.groupby(['user_id', 'product_id'], as_index=False)\n",
    "                                                .agg({'orders_since_last':'mean',\n",
    "                                                      'days_since_last':'mean'}))"
   ]
  },
  {
   "cell_type": "code",
   "execution_count": 241,
   "metadata": {},
   "outputs": [
    {
     "data": {
      "text/html": [
       "<div>\n",
       "<style scoped>\n",
       "    .dataframe tbody tr th:only-of-type {\n",
       "        vertical-align: middle;\n",
       "    }\n",
       "\n",
       "    .dataframe tbody tr th {\n",
       "        vertical-align: top;\n",
       "    }\n",
       "\n",
       "    .dataframe thead th {\n",
       "        text-align: right;\n",
       "    }\n",
       "</style>\n",
       "<table border=\"1\" class=\"dataframe\">\n",
       "  <thead>\n",
       "    <tr style=\"text-align: right;\">\n",
       "      <th></th>\n",
       "      <th>user_id</th>\n",
       "      <th>product_id</th>\n",
       "      <th>orders_since_last</th>\n",
       "      <th>days_since_last</th>\n",
       "    </tr>\n",
       "  </thead>\n",
       "  <tbody>\n",
       "    <tr>\n",
       "      <th>0</th>\n",
       "      <td>50</td>\n",
       "      <td>1202</td>\n",
       "      <td>NaN</td>\n",
       "      <td>NaN</td>\n",
       "    </tr>\n",
       "    <tr>\n",
       "      <th>1</th>\n",
       "      <td>50</td>\n",
       "      <td>2132</td>\n",
       "      <td>NaN</td>\n",
       "      <td>NaN</td>\n",
       "    </tr>\n",
       "    <tr>\n",
       "      <th>2</th>\n",
       "      <td>50</td>\n",
       "      <td>2643</td>\n",
       "      <td>NaN</td>\n",
       "      <td>NaN</td>\n",
       "    </tr>\n",
       "    <tr>\n",
       "      <th>3</th>\n",
       "      <td>50</td>\n",
       "      <td>4601</td>\n",
       "      <td>NaN</td>\n",
       "      <td>NaN</td>\n",
       "    </tr>\n",
       "    <tr>\n",
       "      <th>4</th>\n",
       "      <td>50</td>\n",
       "      <td>4656</td>\n",
       "      <td>NaN</td>\n",
       "      <td>NaN</td>\n",
       "    </tr>\n",
       "    <tr>\n",
       "      <th>5</th>\n",
       "      <td>50</td>\n",
       "      <td>5240</td>\n",
       "      <td>NaN</td>\n",
       "      <td>NaN</td>\n",
       "    </tr>\n",
       "    <tr>\n",
       "      <th>6</th>\n",
       "      <td>50</td>\n",
       "      <td>5612</td>\n",
       "      <td>1.666667</td>\n",
       "      <td>9.242424</td>\n",
       "    </tr>\n",
       "    <tr>\n",
       "      <th>7</th>\n",
       "      <td>50</td>\n",
       "      <td>5785</td>\n",
       "      <td>NaN</td>\n",
       "      <td>NaN</td>\n",
       "    </tr>\n",
       "    <tr>\n",
       "      <th>8</th>\n",
       "      <td>50</td>\n",
       "      <td>5876</td>\n",
       "      <td>9.500000</td>\n",
       "      <td>39.500000</td>\n",
       "    </tr>\n",
       "    <tr>\n",
       "      <th>9</th>\n",
       "      <td>50</td>\n",
       "      <td>5922</td>\n",
       "      <td>14.000000</td>\n",
       "      <td>66.500000</td>\n",
       "    </tr>\n",
       "    <tr>\n",
       "      <th>10</th>\n",
       "      <td>50</td>\n",
       "      <td>6182</td>\n",
       "      <td>1.269231</td>\n",
       "      <td>6.865385</td>\n",
       "    </tr>\n",
       "    <tr>\n",
       "      <th>11</th>\n",
       "      <td>50</td>\n",
       "      <td>6341</td>\n",
       "      <td>3.875000</td>\n",
       "      <td>20.750000</td>\n",
       "    </tr>\n",
       "    <tr>\n",
       "      <th>12</th>\n",
       "      <td>50</td>\n",
       "      <td>7014</td>\n",
       "      <td>14.500000</td>\n",
       "      <td>75.250000</td>\n",
       "    </tr>\n",
       "    <tr>\n",
       "      <th>13</th>\n",
       "      <td>50</td>\n",
       "      <td>7054</td>\n",
       "      <td>5.500000</td>\n",
       "      <td>33.500000</td>\n",
       "    </tr>\n",
       "    <tr>\n",
       "      <th>14</th>\n",
       "      <td>50</td>\n",
       "      <td>8518</td>\n",
       "      <td>30.000000</td>\n",
       "      <td>156.000000</td>\n",
       "    </tr>\n",
       "    <tr>\n",
       "      <th>15</th>\n",
       "      <td>50</td>\n",
       "      <td>8774</td>\n",
       "      <td>NaN</td>\n",
       "      <td>NaN</td>\n",
       "    </tr>\n",
       "    <tr>\n",
       "      <th>16</th>\n",
       "      <td>50</td>\n",
       "      <td>9666</td>\n",
       "      <td>7.000000</td>\n",
       "      <td>46.000000</td>\n",
       "    </tr>\n",
       "    <tr>\n",
       "      <th>17</th>\n",
       "      <td>50</td>\n",
       "      <td>9839</td>\n",
       "      <td>6.000000</td>\n",
       "      <td>27.666667</td>\n",
       "    </tr>\n",
       "    <tr>\n",
       "      <th>18</th>\n",
       "      <td>50</td>\n",
       "      <td>10666</td>\n",
       "      <td>NaN</td>\n",
       "      <td>NaN</td>\n",
       "    </tr>\n",
       "    <tr>\n",
       "      <th>19</th>\n",
       "      <td>50</td>\n",
       "      <td>10831</td>\n",
       "      <td>3.000000</td>\n",
       "      <td>13.500000</td>\n",
       "    </tr>\n",
       "    <tr>\n",
       "      <th>20</th>\n",
       "      <td>50</td>\n",
       "      <td>11933</td>\n",
       "      <td>3.000000</td>\n",
       "      <td>24.000000</td>\n",
       "    </tr>\n",
       "    <tr>\n",
       "      <th>21</th>\n",
       "      <td>50</td>\n",
       "      <td>12409</td>\n",
       "      <td>15.000000</td>\n",
       "      <td>72.333333</td>\n",
       "    </tr>\n",
       "    <tr>\n",
       "      <th>22</th>\n",
       "      <td>50</td>\n",
       "      <td>13176</td>\n",
       "      <td>1.375000</td>\n",
       "      <td>6.250000</td>\n",
       "    </tr>\n",
       "    <tr>\n",
       "      <th>23</th>\n",
       "      <td>50</td>\n",
       "      <td>14086</td>\n",
       "      <td>NaN</td>\n",
       "      <td>NaN</td>\n",
       "    </tr>\n",
       "    <tr>\n",
       "      <th>24</th>\n",
       "      <td>50</td>\n",
       "      <td>14233</td>\n",
       "      <td>NaN</td>\n",
       "      <td>NaN</td>\n",
       "    </tr>\n",
       "    <tr>\n",
       "      <th>25</th>\n",
       "      <td>50</td>\n",
       "      <td>14540</td>\n",
       "      <td>NaN</td>\n",
       "      <td>NaN</td>\n",
       "    </tr>\n",
       "    <tr>\n",
       "      <th>26</th>\n",
       "      <td>50</td>\n",
       "      <td>14651</td>\n",
       "      <td>NaN</td>\n",
       "      <td>NaN</td>\n",
       "    </tr>\n",
       "    <tr>\n",
       "      <th>27</th>\n",
       "      <td>50</td>\n",
       "      <td>14955</td>\n",
       "      <td>3.000000</td>\n",
       "      <td>16.000000</td>\n",
       "    </tr>\n",
       "    <tr>\n",
       "      <th>28</th>\n",
       "      <td>50</td>\n",
       "      <td>16249</td>\n",
       "      <td>1.000000</td>\n",
       "      <td>10.000000</td>\n",
       "    </tr>\n",
       "    <tr>\n",
       "      <th>29</th>\n",
       "      <td>50</td>\n",
       "      <td>16759</td>\n",
       "      <td>8.000000</td>\n",
       "      <td>33.000000</td>\n",
       "    </tr>\n",
       "    <tr>\n",
       "      <th>30</th>\n",
       "      <td>50</td>\n",
       "      <td>17400</td>\n",
       "      <td>NaN</td>\n",
       "      <td>NaN</td>\n",
       "    </tr>\n",
       "    <tr>\n",
       "      <th>31</th>\n",
       "      <td>50</td>\n",
       "      <td>17974</td>\n",
       "      <td>NaN</td>\n",
       "      <td>NaN</td>\n",
       "    </tr>\n",
       "    <tr>\n",
       "      <th>32</th>\n",
       "      <td>50</td>\n",
       "      <td>18140</td>\n",
       "      <td>NaN</td>\n",
       "      <td>NaN</td>\n",
       "    </tr>\n",
       "    <tr>\n",
       "      <th>33</th>\n",
       "      <td>50</td>\n",
       "      <td>18370</td>\n",
       "      <td>NaN</td>\n",
       "      <td>NaN</td>\n",
       "    </tr>\n",
       "    <tr>\n",
       "      <th>34</th>\n",
       "      <td>50</td>\n",
       "      <td>18465</td>\n",
       "      <td>NaN</td>\n",
       "      <td>NaN</td>\n",
       "    </tr>\n",
       "    <tr>\n",
       "      <th>35</th>\n",
       "      <td>50</td>\n",
       "      <td>19678</td>\n",
       "      <td>3.823529</td>\n",
       "      <td>20.647059</td>\n",
       "    </tr>\n",
       "    <tr>\n",
       "      <th>36</th>\n",
       "      <td>50</td>\n",
       "      <td>20367</td>\n",
       "      <td>4.545455</td>\n",
       "      <td>22.545455</td>\n",
       "    </tr>\n",
       "    <tr>\n",
       "      <th>37</th>\n",
       "      <td>50</td>\n",
       "      <td>21137</td>\n",
       "      <td>20.666667</td>\n",
       "      <td>110.666667</td>\n",
       "    </tr>\n",
       "    <tr>\n",
       "      <th>38</th>\n",
       "      <td>50</td>\n",
       "      <td>21174</td>\n",
       "      <td>3.800000</td>\n",
       "      <td>23.600000</td>\n",
       "    </tr>\n",
       "    <tr>\n",
       "      <th>39</th>\n",
       "      <td>50</td>\n",
       "      <td>21903</td>\n",
       "      <td>6.250000</td>\n",
       "      <td>30.750000</td>\n",
       "    </tr>\n",
       "    <tr>\n",
       "      <th>40</th>\n",
       "      <td>50</td>\n",
       "      <td>22825</td>\n",
       "      <td>2.100000</td>\n",
       "      <td>9.800000</td>\n",
       "    </tr>\n",
       "    <tr>\n",
       "      <th>41</th>\n",
       "      <td>50</td>\n",
       "      <td>22935</td>\n",
       "      <td>6.428571</td>\n",
       "      <td>30.428571</td>\n",
       "    </tr>\n",
       "    <tr>\n",
       "      <th>42</th>\n",
       "      <td>50</td>\n",
       "      <td>23165</td>\n",
       "      <td>2.954545</td>\n",
       "      <td>15.954545</td>\n",
       "    </tr>\n",
       "    <tr>\n",
       "      <th>43</th>\n",
       "      <td>50</td>\n",
       "      <td>24487</td>\n",
       "      <td>NaN</td>\n",
       "      <td>NaN</td>\n",
       "    </tr>\n",
       "    <tr>\n",
       "      <th>44</th>\n",
       "      <td>50</td>\n",
       "      <td>24964</td>\n",
       "      <td>56.000000</td>\n",
       "      <td>296.000000</td>\n",
       "    </tr>\n",
       "    <tr>\n",
       "      <th>45</th>\n",
       "      <td>50</td>\n",
       "      <td>26427</td>\n",
       "      <td>NaN</td>\n",
       "      <td>NaN</td>\n",
       "    </tr>\n",
       "    <tr>\n",
       "      <th>46</th>\n",
       "      <td>50</td>\n",
       "      <td>26800</td>\n",
       "      <td>5.000000</td>\n",
       "      <td>22.000000</td>\n",
       "    </tr>\n",
       "    <tr>\n",
       "      <th>47</th>\n",
       "      <td>50</td>\n",
       "      <td>27104</td>\n",
       "      <td>8.000000</td>\n",
       "      <td>35.000000</td>\n",
       "    </tr>\n",
       "    <tr>\n",
       "      <th>48</th>\n",
       "      <td>50</td>\n",
       "      <td>27521</td>\n",
       "      <td>NaN</td>\n",
       "      <td>NaN</td>\n",
       "    </tr>\n",
       "    <tr>\n",
       "      <th>49</th>\n",
       "      <td>50</td>\n",
       "      <td>27888</td>\n",
       "      <td>27.000000</td>\n",
       "      <td>145.500000</td>\n",
       "    </tr>\n",
       "  </tbody>\n",
       "</table>\n",
       "</div>"
      ],
      "text/plain": [
       "    user_id  product_id  orders_since_last  days_since_last\n",
       "0        50        1202                NaN              NaN\n",
       "1        50        2132                NaN              NaN\n",
       "2        50        2643                NaN              NaN\n",
       "3        50        4601                NaN              NaN\n",
       "4        50        4656                NaN              NaN\n",
       "5        50        5240                NaN              NaN\n",
       "6        50        5612           1.666667         9.242424\n",
       "7        50        5785                NaN              NaN\n",
       "8        50        5876           9.500000        39.500000\n",
       "9        50        5922          14.000000        66.500000\n",
       "10       50        6182           1.269231         6.865385\n",
       "11       50        6341           3.875000        20.750000\n",
       "12       50        7014          14.500000        75.250000\n",
       "13       50        7054           5.500000        33.500000\n",
       "14       50        8518          30.000000       156.000000\n",
       "15       50        8774                NaN              NaN\n",
       "16       50        9666           7.000000        46.000000\n",
       "17       50        9839           6.000000        27.666667\n",
       "18       50       10666                NaN              NaN\n",
       "19       50       10831           3.000000        13.500000\n",
       "20       50       11933           3.000000        24.000000\n",
       "21       50       12409          15.000000        72.333333\n",
       "22       50       13176           1.375000         6.250000\n",
       "23       50       14086                NaN              NaN\n",
       "24       50       14233                NaN              NaN\n",
       "25       50       14540                NaN              NaN\n",
       "26       50       14651                NaN              NaN\n",
       "27       50       14955           3.000000        16.000000\n",
       "28       50       16249           1.000000        10.000000\n",
       "29       50       16759           8.000000        33.000000\n",
       "30       50       17400                NaN              NaN\n",
       "31       50       17974                NaN              NaN\n",
       "32       50       18140                NaN              NaN\n",
       "33       50       18370                NaN              NaN\n",
       "34       50       18465                NaN              NaN\n",
       "35       50       19678           3.823529        20.647059\n",
       "36       50       20367           4.545455        22.545455\n",
       "37       50       21137          20.666667       110.666667\n",
       "38       50       21174           3.800000        23.600000\n",
       "39       50       21903           6.250000        30.750000\n",
       "40       50       22825           2.100000         9.800000\n",
       "41       50       22935           6.428571        30.428571\n",
       "42       50       23165           2.954545        15.954545\n",
       "43       50       24487                NaN              NaN\n",
       "44       50       24964          56.000000       296.000000\n",
       "45       50       26427                NaN              NaN\n",
       "46       50       26800           5.000000        22.000000\n",
       "47       50       27104           8.000000        35.000000\n",
       "48       50       27521                NaN              NaN\n",
       "49       50       27888          27.000000       145.500000"
      ]
     },
     "execution_count": 241,
     "metadata": {},
     "output_type": "execute_result"
    }
   ],
   "source": [
    "product_prior_since_df.head(50)"
   ]
  },
  {
   "cell_type": "markdown",
   "metadata": {},
   "source": [
    "#### Check All Features"
   ]
  },
  {
   "cell_type": "code",
   "execution_count": 118,
   "metadata": {},
   "outputs": [
    {
     "data": {
      "text/html": [
       "<div>\n",
       "<style scoped>\n",
       "    .dataframe tbody tr th:only-of-type {\n",
       "        vertical-align: middle;\n",
       "    }\n",
       "\n",
       "    .dataframe tbody tr th {\n",
       "        vertical-align: top;\n",
       "    }\n",
       "\n",
       "    .dataframe thead th {\n",
       "        text-align: right;\n",
       "    }\n",
       "</style>\n",
       "<table border=\"1\" class=\"dataframe\">\n",
       "  <thead>\n",
       "    <tr style=\"text-align: right;\">\n",
       "      <th></th>\n",
       "      <th>product_id</th>\n",
       "      <th>user_id</th>\n",
       "      <th>count_in_user_orders</th>\n",
       "      <th>prior_cart_add_order</th>\n",
       "      <th>prior_order_dow</th>\n",
       "      <th>prior_order_hour</th>\n",
       "      <th>total_user_orders</th>\n",
       "      <th>percent_in_user_orders</th>\n",
       "      <th>cart_contents</th>\n",
       "      <th>order_dow</th>\n",
       "      <th>order_hour</th>\n",
       "      <th>in_cart</th>\n",
       "      <th>count_in_all_orders</th>\n",
       "      <th>percent_in_all_orders</th>\n",
       "      <th>order_dow_diff</th>\n",
       "      <th>order_hour_diff</th>\n",
       "      <th>last_cart_contents</th>\n",
       "      <th>in_last_cart</th>\n",
       "    </tr>\n",
       "  </thead>\n",
       "  <tbody>\n",
       "    <tr>\n",
       "      <th>0</th>\n",
       "      <td>1</td>\n",
       "      <td>21285</td>\n",
       "      <td>1</td>\n",
       "      <td>3.0</td>\n",
       "      <td>0.00</td>\n",
       "      <td>15.00</td>\n",
       "      <td>48</td>\n",
       "      <td>0.020833</td>\n",
       "      <td>{21573, 35561, 37710, 11759, 12341, 13176, 32478}</td>\n",
       "      <td>4</td>\n",
       "      <td>10</td>\n",
       "      <td>0</td>\n",
       "      <td>26</td>\n",
       "      <td>0.000335</td>\n",
       "      <td>4.00</td>\n",
       "      <td>5.00</td>\n",
       "      <td>[13176, 12341, 35561, 32478, 39581, 25133]</td>\n",
       "      <td>0</td>\n",
       "    </tr>\n",
       "    <tr>\n",
       "      <th>1</th>\n",
       "      <td>1</td>\n",
       "      <td>47549</td>\n",
       "      <td>4</td>\n",
       "      <td>4.0</td>\n",
       "      <td>4.25</td>\n",
       "      <td>18.25</td>\n",
       "      <td>26</td>\n",
       "      <td>0.153846</td>\n",
       "      <td>{27845, 27790, 13042, 10326, 37687}</td>\n",
       "      <td>0</td>\n",
       "      <td>23</td>\n",
       "      <td>0</td>\n",
       "      <td>26</td>\n",
       "      <td>0.000335</td>\n",
       "      <td>4.25</td>\n",
       "      <td>4.75</td>\n",
       "      <td>[27845]</td>\n",
       "      <td>0</td>\n",
       "    </tr>\n",
       "    <tr>\n",
       "      <th>2</th>\n",
       "      <td>1</td>\n",
       "      <td>54136</td>\n",
       "      <td>1</td>\n",
       "      <td>3.0</td>\n",
       "      <td>2.00</td>\n",
       "      <td>13.00</td>\n",
       "      <td>23</td>\n",
       "      <td>0.043478</td>\n",
       "      <td>{47977, 5450, 26604, 5296, 11123, 24852, 10070...</td>\n",
       "      <td>1</td>\n",
       "      <td>11</td>\n",
       "      <td>0</td>\n",
       "      <td>26</td>\n",
       "      <td>0.000335</td>\n",
       "      <td>1.00</td>\n",
       "      <td>2.00</td>\n",
       "      <td>[47977, 9623, 31486, 26767]</td>\n",
       "      <td>0</td>\n",
       "    </tr>\n",
       "    <tr>\n",
       "      <th>3</th>\n",
       "      <td>1</td>\n",
       "      <td>54240</td>\n",
       "      <td>1</td>\n",
       "      <td>2.0</td>\n",
       "      <td>2.00</td>\n",
       "      <td>16.00</td>\n",
       "      <td>5</td>\n",
       "      <td>0.200000</td>\n",
       "      <td>{12427, 26348}</td>\n",
       "      <td>0</td>\n",
       "      <td>7</td>\n",
       "      <td>0</td>\n",
       "      <td>26</td>\n",
       "      <td>0.000335</td>\n",
       "      <td>2.00</td>\n",
       "      <td>9.00</td>\n",
       "      <td>[26348]</td>\n",
       "      <td>0</td>\n",
       "    </tr>\n",
       "    <tr>\n",
       "      <th>4</th>\n",
       "      <td>1</td>\n",
       "      <td>95730</td>\n",
       "      <td>1</td>\n",
       "      <td>1.0</td>\n",
       "      <td>1.00</td>\n",
       "      <td>14.00</td>\n",
       "      <td>9</td>\n",
       "      <td>0.111111</td>\n",
       "      <td>{39657, 10441, 12427, 37710, 10258, 32921, 45051}</td>\n",
       "      <td>2</td>\n",
       "      <td>10</td>\n",
       "      <td>0</td>\n",
       "      <td>26</td>\n",
       "      <td>0.000335</td>\n",
       "      <td>1.00</td>\n",
       "      <td>4.00</td>\n",
       "      <td>[27714]</td>\n",
       "      <td>0</td>\n",
       "    </tr>\n",
       "  </tbody>\n",
       "</table>\n",
       "</div>"
      ],
      "text/plain": [
       "   product_id  user_id  count_in_user_orders  prior_cart_add_order  \\\n",
       "0           1    21285                     1                   3.0   \n",
       "1           1    47549                     4                   4.0   \n",
       "2           1    54136                     1                   3.0   \n",
       "3           1    54240                     1                   2.0   \n",
       "4           1    95730                     1                   1.0   \n",
       "\n",
       "   prior_order_dow  prior_order_hour  total_user_orders  \\\n",
       "0             0.00             15.00                 48   \n",
       "1             4.25             18.25                 26   \n",
       "2             2.00             13.00                 23   \n",
       "3             2.00             16.00                  5   \n",
       "4             1.00             14.00                  9   \n",
       "\n",
       "   percent_in_user_orders                                      cart_contents  \\\n",
       "0                0.020833  {21573, 35561, 37710, 11759, 12341, 13176, 32478}   \n",
       "1                0.153846                {27845, 27790, 13042, 10326, 37687}   \n",
       "2                0.043478  {47977, 5450, 26604, 5296, 11123, 24852, 10070...   \n",
       "3                0.200000                                     {12427, 26348}   \n",
       "4                0.111111  {39657, 10441, 12427, 37710, 10258, 32921, 45051}   \n",
       "\n",
       "   order_dow  order_hour  in_cart  count_in_all_orders  percent_in_all_orders  \\\n",
       "0          4          10        0                   26               0.000335   \n",
       "1          0          23        0                   26               0.000335   \n",
       "2          1          11        0                   26               0.000335   \n",
       "3          0           7        0                   26               0.000335   \n",
       "4          2          10        0                   26               0.000335   \n",
       "\n",
       "   order_dow_diff  order_hour_diff  \\\n",
       "0            4.00             5.00   \n",
       "1            4.25             4.75   \n",
       "2            1.00             2.00   \n",
       "3            2.00             9.00   \n",
       "4            1.00             4.00   \n",
       "\n",
       "                           last_cart_contents  in_last_cart  \n",
       "0  [13176, 12341, 35561, 32478, 39581, 25133]             0  \n",
       "1                                     [27845]             0  \n",
       "2                 [47977, 9623, 31486, 26767]             0  \n",
       "3                                     [26348]             0  \n",
       "4                                     [27714]             0  "
      ]
     },
     "execution_count": 118,
     "metadata": {},
     "output_type": "execute_result"
    }
   ],
   "source": [
    "user_product_df.head()"
   ]
  },
  {
   "cell_type": "markdown",
   "metadata": {},
   "source": [
    "### Split Into Train, Validate, and Test Sets"
   ]
  },
  {
   "cell_type": "code",
   "execution_count": 31,
   "metadata": {},
   "outputs": [],
   "source": [
    "def train_val_test_by_user(df, x_cols, y_col, val_size=.2, test_size=.1, seed=29):\n",
    "    rndm = np.random.RandomState(seed)\n",
    "    all_users = df['user_id'].unique()\n",
    "    \n",
    "    # Splits off holdout test set\n",
    "    non_test_users = rndm.choice(all_users,\n",
    "                                 size=int(all_users.size * (1-test_size)),\n",
    "                                 replace=False)\n",
    "    test_df = df[~df['user_id'].isin(non_test_users)]\n",
    "    \n",
    "    # Splits off train and validation sets\n",
    "    val_users = rndm.choice(non_test_users,\n",
    "                            size=int(all_users.size * val_size),\n",
    "                            replace=False)\n",
    "    val_df = df[df['user_id'].isin(val_users)]\n",
    "    train_df = df[~df['user_id'].isin(val_users)]\n",
    "    \n",
    "    return (train_df[x_cols], train_df[y_col],\n",
    "            val_df[x_cols], val_df[y_col],\n",
    "            test_df[x_cols], test_df[y_col])"
   ]
  },
  {
   "cell_type": "code",
   "execution_count": 120,
   "metadata": {},
   "outputs": [],
   "source": [
    "x_cols = ['percent_in_user_orders',\n",
    "          'percent_in_all_orders',\n",
    "          'total_user_orders',\n",
    "          'in_last_cart']\n",
    "y_col = 'in_cart'\n",
    "\n",
    "X_train, y_train, X_val, y_val, X_test, y_test =\\\n",
    "    train_val_test_by_user(user_product_df, x_cols, y_col)"
   ]
  },
  {
   "cell_type": "code",
   "execution_count": 76,
   "metadata": {},
   "outputs": [
    {
     "data": {
      "text/plain": [
       "(265601, 64205, 34097)"
      ]
     },
     "execution_count": 76,
     "metadata": {},
     "output_type": "execute_result"
    }
   ],
   "source": [
    "y_train.size, y_val.size, y_test.size"
   ]
  },
  {
   "cell_type": "markdown",
   "metadata": {},
   "source": [
    "### EDA"
   ]
  },
  {
   "cell_type": "code",
   "execution_count": 121,
   "metadata": {},
   "outputs": [
    {
     "name": "stderr",
     "output_type": "stream",
     "text": [
      "/anaconda3/lib/python3.7/site-packages/scipy/stats/stats.py:1713: FutureWarning: Using a non-tuple sequence for multidimensional indexing is deprecated; use `arr[tuple(seq)]` instead of `arr[seq]`. In the future this will be interpreted as an array index, `arr[np.array(seq)]`, which will result either in an error or a different result.\n",
      "  return np.add.reduce(sorted[indexer] * weights, axis=axis) / sumval\n",
      "/anaconda3/lib/python3.7/site-packages/statsmodels/nonparametric/kde.py:488: RuntimeWarning: invalid value encountered in true_divide\n",
      "  binned = fast_linbin(X, a, b, gridsize) / (delta * nobs)\n",
      "/anaconda3/lib/python3.7/site-packages/statsmodels/nonparametric/kdetools.py:34: RuntimeWarning: invalid value encountered in double_scalars\n",
      "  FAC1 = 2*(np.pi*bw/RANGE)**2\n",
      "/anaconda3/lib/python3.7/site-packages/numpy/core/fromnumeric.py:83: RuntimeWarning: invalid value encountered in reduce\n",
      "  return ufunc.reduce(obj, axis, dtype, out, **passkwargs)\n"
     ]
    },
    {
     "data": {
      "image/png": "[encoded data removed]",
      "text/plain": [
       "<Figure size 942.375x900 with 30 Axes>"
      ]
     },
     "metadata": {
      "needs_background": "light"
     },
     "output_type": "display_data"
    }
   ],
   "source": [
    "eda_df = pd.concat([X_train, y_train], axis=1).sample(1000)\n",
    "sns.pairplot(eda_df, hue='in_cart', plot_kws=dict(alpha=.1, edgecolor='none'));"
   ]
  },
  {
   "cell_type": "markdown",
   "metadata": {},
   "source": [
    "### Oversampling (Inactive)\n",
    "Only significantly improved Logistic Regression\n",
    "* Logistic = .23 to .35\n",
    "* KNN = .24 to .29\n",
    "* Random Forest = .24 to .27\n",
    "* xgboost = .29 to .32"
   ]
  },
  {
   "cell_type": "markdown",
   "metadata": {},
   "source": [
    "n_pos = np.sum(y_train == 1)\n",
    "n_neg = np.sum(y_train == 0)\n",
    "ratio = {1 : n_neg, 0 : n_neg} \n",
    "\n",
    "ROS = imblearn.over_sampling.RandomOverSampler(ratio=ratio, random_state=29)    \n",
    "X_train, y_train = ROS.fit_sample(X_train, y_train)"
   ]
  },
  {
   "cell_type": "markdown",
   "metadata": {},
   "source": [
    "### Generic Threshold Adjustment Function"
   ]
  },
  {
   "cell_type": "code",
   "execution_count": 36,
   "metadata": {},
   "outputs": [],
   "source": [
    "def adjust_threshold(model, X, threshold=.5):\n",
    "    return (model.predict_proba(X)[:, 1] >= threshold).astype(int)"
   ]
  },
  {
   "cell_type": "markdown",
   "metadata": {},
   "source": [
    "### Baseline Logistic Regression"
   ]
  },
  {
   "cell_type": "code",
   "execution_count": 37,
   "metadata": {},
   "outputs": [],
   "source": [
    "def optimize_logistic_c(X_train, y_train, X_val, y_val):\n",
    "    max_c = max_score = max_model = 0\n",
    "    for c in range(-3, 6):\n",
    "        c_val = 10 ** c\n",
    "        model = LogisticRegression(C=c_val, solver='lbfgs', multi_class='auto')\n",
    "        model.fit(X_train, y_train)\n",
    "        score = f1_score(y_val, model.predict(X_val))\n",
    "        if score > max_score:\n",
    "            max_c = c_val\n",
    "            max_score = score\n",
    "            max_model = model\n",
    "            \n",
    "    print(f'C = {max_c} yields the highest score: {max_score}')\n",
    "    return max_model"
   ]
  },
  {
   "cell_type": "code",
   "execution_count": 122,
   "metadata": {},
   "outputs": [
    {
     "name": "stdout",
     "output_type": "stream",
     "text": [
      "C = 10 yields the highest score: 0.25447173861197236\n"
     ]
    }
   ],
   "source": [
    "lr = optimize_logistic_c(X_train, y_train, X_val, y_val)"
   ]
  },
  {
   "cell_type": "code",
   "execution_count": 123,
   "metadata": {},
   "outputs": [
    {
     "data": {
      "text/plain": [
       "(0.25447173861197236, 0.5636555731642895, 0.1643308178037887)"
      ]
     },
     "execution_count": 123,
     "metadata": {},
     "output_type": "execute_result"
    }
   ],
   "source": [
    "y_pred = lr.predict(X_val)\n",
    "f1_score(y_val, y_pred), precision_score(y_val, y_pred), recall_score(y_val, y_pred)"
   ]
  },
  {
   "cell_type": "code",
   "execution_count": 124,
   "metadata": {},
   "outputs": [
    {
     "data": {
      "text/plain": [
       "(0.3904800872885979, 0.35038550972953125, 0.440936393038657)"
      ]
     },
     "execution_count": 124,
     "metadata": {},
     "output_type": "execute_result"
    }
   ],
   "source": [
    "y_adj = adjust_threshold(lr, X_val, .17)\n",
    "f1_score(y_val, y_adj), precision_score(y_val, y_adj), recall_score(y_val, y_adj)"
   ]
  },
  {
   "cell_type": "markdown",
   "metadata": {},
   "source": [
    "### Baseline KNN Classifier"
   ]
  },
  {
   "cell_type": "code",
   "execution_count": 41,
   "metadata": {},
   "outputs": [],
   "source": [
    "def optimize_knn(X_train, y_train, X_val, y_val, max_iter=20):\n",
    "    max_k = max_score = max_model = 0\n",
    "    for k in range(1, max_iter+1):\n",
    "        model = KNeighborsClassifier(n_neighbors=k)\n",
    "        model.fit(X_train, y_train)\n",
    "        score = f1_score(y_val, model.predict(X_val))\n",
    "        if score > max_score:\n",
    "            max_k = k\n",
    "            max_score = score\n",
    "            max_model = model\n",
    "            \n",
    "    print(f'k = {max_k} yields the highest score: {max_score}')\n",
    "    return max_model"
   ]
  },
  {
   "cell_type": "code",
   "execution_count": 125,
   "metadata": {},
   "outputs": [
    {
     "name": "stdout",
     "output_type": "stream",
     "text": [
      "k = 3 yields the highest score: 0.2678731231977727\n"
     ]
    }
   ],
   "source": [
    "knn = optimize_knn(X_train, y_train, X_val, y_val)"
   ]
  },
  {
   "cell_type": "code",
   "execution_count": 126,
   "metadata": {},
   "outputs": [
    {
     "data": {
      "text/plain": [
       "(0.2678731231977727, 0.3779461279461279, 0.20745418142615124)"
      ]
     },
     "execution_count": 126,
     "metadata": {},
     "output_type": "execute_result"
    }
   ],
   "source": [
    "y_pred = knn.predict(X_val)\n",
    "f1_score(y_val, y_pred), precision_score(y_val, y_pred), recall_score(y_val, y_pred)"
   ]
  },
  {
   "cell_type": "code",
   "execution_count": 127,
   "metadata": {},
   "outputs": [
    {
     "data": {
      "text/plain": [
       "(0.29902073467886536, 0.21313409359024774, 0.5008470660711536)"
      ]
     },
     "execution_count": 127,
     "metadata": {},
     "output_type": "execute_result"
    }
   ],
   "source": [
    "y_adj = adjust_threshold(knn, X_val, .17)\n",
    "f1_score(y_val, y_adj), precision_score(y_val, y_adj), recall_score(y_val, y_adj)"
   ]
  },
  {
   "cell_type": "markdown",
   "metadata": {},
   "source": [
    "### Baseline Random Forest Classifier"
   ]
  },
  {
   "cell_type": "code",
   "execution_count": 128,
   "metadata": {},
   "outputs": [],
   "source": [
    "rf = RandomForestClassifier(n_estimators=10, n_jobs=-1)\n",
    "rf.fit(X_train, y_train);"
   ]
  },
  {
   "cell_type": "code",
   "execution_count": 129,
   "metadata": {},
   "outputs": [
    {
     "data": {
      "text/plain": [
       "(0.25659708546671917, 0.3557193557193557, 0.20067765285692285)"
      ]
     },
     "execution_count": 129,
     "metadata": {},
     "output_type": "execute_result"
    }
   ],
   "source": [
    "y_pred = rf.predict(X_val)\n",
    "f1_score(y_val, y_pred), precision_score(y_val, y_pred), recall_score(y_val, y_pred)"
   ]
  },
  {
   "cell_type": "code",
   "execution_count": 130,
   "metadata": {},
   "outputs": [
    {
     "data": {
      "text/plain": [
       "(0.322663395047959, 0.25290672261561326, 0.44555675342676726)"
      ]
     },
     "execution_count": 130,
     "metadata": {},
     "output_type": "execute_result"
    }
   ],
   "source": [
    "y_adj = adjust_threshold(rf, X_val, .2)\n",
    "f1_score(y_val, y_adj), precision_score(y_val, y_adj), recall_score(y_val, y_adj)"
   ]
  },
  {
   "cell_type": "markdown",
   "metadata": {},
   "source": [
    "### Baseline xgboost"
   ]
  },
  {
   "cell_type": "code",
   "execution_count": 131,
   "metadata": {},
   "outputs": [],
   "source": [
    "gbm = xgb.XGBClassifier(n_estimators=30000,\n",
    "                        max_depth=5,\n",
    "                        objective=\"binary:logistic\",\n",
    "                        learning_rate=1, \n",
    "                        subsample=.009,\n",
    "                        min_child_weight=1,\n",
    "                        colsample_bytree=.8)\n",
    "\n",
    "fit_model = gbm.fit(X_train, y_train, \n",
    "                    eval_set=[(X_train, y_train), (X_val, y_val)],\n",
    "                    eval_metric='auc',\n",
    "                    early_stopping_rounds=20,\n",
    "                    verbose=False);"
   ]
  },
  {
   "cell_type": "code",
   "execution_count": 132,
   "metadata": {},
   "outputs": [
    {
     "data": {
      "text/plain": [
       "(0.20562450187862918, 0.3943231441048035, 0.1390728476821192)"
      ]
     },
     "execution_count": 132,
     "metadata": {},
     "output_type": "execute_result"
    }
   ],
   "source": [
    "y_pred = gbm.predict(X_val, ntree_limit=gbm.best_ntree_limit)\n",
    "f1_score(y_val, y_pred), precision_score(y_val, y_pred), recall_score(y_val, y_pred)"
   ]
  },
  {
   "cell_type": "code",
   "execution_count": 133,
   "metadata": {},
   "outputs": [
    {
     "data": {
      "text/plain": [
       "(0.32171451678123736, 0.33872615803814715, 0.3063298937317111)"
      ]
     },
     "execution_count": 133,
     "metadata": {},
     "output_type": "execute_result"
    }
   ],
   "source": [
    "y_adj = adjust_threshold(gbm, X_val, .27)\n",
    "f1_score(y_val, y_adj), precision_score(y_val, y_adj), recall_score(y_val, y_adj)"
   ]
  },
  {
   "cell_type": "markdown",
   "metadata": {},
   "source": [
    "### Group Common Products\n",
    "* Brand name is often at the beginning\n",
    "* Product name is often at the end\n",
    "* Could look for words in common among products"
   ]
  },
  {
   "cell_type": "raw",
   "metadata": {},
   "source": [
    "product_words = products_df['product_name'].str.cat(sep=' ')\n",
    "product_words = re.sub('\\W', ' ', product_words).strip().lower()\n",
    "product_words = pd.Series(list(set(product_words.split())))\n",
    "product_words.size"
   ]
  },
  {
   "cell_type": "raw",
   "metadata": {},
   "source": [
    "product_words = product_words[product_words.str.len() > 2].reset_index(drop=True)\n",
    "#product_words = pd.DataFrame(product_words, columns=['word'])"
   ]
  },
  {
   "cell_type": "raw",
   "metadata": {},
   "source": [
    "duplicates = []\n",
    "for word in product_words:\n",
    "    duplicates.append(product_words[product_words.str.contains(word)].values)"
   ]
  },
  {
   "cell_type": "raw",
   "metadata": {},
   "source": [
    "product_words = pd.DataFrame(product_words, columns=['word'])\n",
    "product_words['duplicate'] = duplicates"
   ]
  },
  {
   "cell_type": "raw",
   "metadata": {},
   "source": [
    "product_words.head()"
   ]
  },
  {
   "cell_type": "markdown",
   "metadata": {},
   "source": [
    "### Merge Order and User Info"
   ]
  },
  {
   "cell_type": "code",
   "execution_count": 27,
   "metadata": {},
   "outputs": [
    {
     "data": {
      "text/html": [
       "<div>\n",
       "<style scoped>\n",
       "    .dataframe tbody tr th:only-of-type {\n",
       "        vertical-align: middle;\n",
       "    }\n",
       "\n",
       "    .dataframe tbody tr th {\n",
       "        vertical-align: top;\n",
       "    }\n",
       "\n",
       "    .dataframe thead th {\n",
       "        text-align: right;\n",
       "    }\n",
       "</style>\n",
       "<table border=\"1\" class=\"dataframe\">\n",
       "  <thead>\n",
       "    <tr style=\"text-align: right;\">\n",
       "      <th></th>\n",
       "      <th>order_id</th>\n",
       "      <th>product_id</th>\n",
       "      <th>add_to_cart_order</th>\n",
       "      <th>reordered</th>\n",
       "      <th>product_name</th>\n",
       "      <th>department</th>\n",
       "      <th>aisle</th>\n",
       "    </tr>\n",
       "  </thead>\n",
       "  <tbody>\n",
       "    <tr>\n",
       "      <th>0</th>\n",
       "      <td>1077</td>\n",
       "      <td>13176</td>\n",
       "      <td>1</td>\n",
       "      <td>1</td>\n",
       "      <td>Bag of Organic Bananas</td>\n",
       "      <td>produce</td>\n",
       "      <td>fresh fruits</td>\n",
       "    </tr>\n",
       "    <tr>\n",
       "      <th>1</th>\n",
       "      <td>1077</td>\n",
       "      <td>39922</td>\n",
       "      <td>2</td>\n",
       "      <td>1</td>\n",
       "      <td>Celery Sticks</td>\n",
       "      <td>produce</td>\n",
       "      <td>packaged vegetables fruits</td>\n",
       "    </tr>\n",
       "    <tr>\n",
       "      <th>2</th>\n",
       "      <td>1077</td>\n",
       "      <td>5258</td>\n",
       "      <td>3</td>\n",
       "      <td>1</td>\n",
       "      <td>Sparkling Water</td>\n",
       "      <td>beverages</td>\n",
       "      <td>water seltzer sparkling water</td>\n",
       "    </tr>\n",
       "    <tr>\n",
       "      <th>3</th>\n",
       "      <td>1077</td>\n",
       "      <td>21137</td>\n",
       "      <td>4</td>\n",
       "      <td>1</td>\n",
       "      <td>Organic Strawberries</td>\n",
       "      <td>produce</td>\n",
       "      <td>fresh fruits</td>\n",
       "    </tr>\n",
       "    <tr>\n",
       "      <th>4</th>\n",
       "      <td>1119</td>\n",
       "      <td>6046</td>\n",
       "      <td>1</td>\n",
       "      <td>1</td>\n",
       "      <td>Boneless Skinless Chicken Breast</td>\n",
       "      <td>meat seafood</td>\n",
       "      <td>poultry counter</td>\n",
       "    </tr>\n",
       "  </tbody>\n",
       "</table>\n",
       "</div>"
      ],
      "text/plain": [
       "   order_id  product_id  add_to_cart_order  reordered  \\\n",
       "0      1077       13176                  1          1   \n",
       "1      1077       39922                  2          1   \n",
       "2      1077        5258                  3          1   \n",
       "3      1077       21137                  4          1   \n",
       "4      1119        6046                  1          1   \n",
       "\n",
       "                       product_name    department  \\\n",
       "0            Bag of Organic Bananas       produce   \n",
       "1                     Celery Sticks       produce   \n",
       "2                   Sparkling Water     beverages   \n",
       "3              Organic Strawberries       produce   \n",
       "4  Boneless Skinless Chicken Breast  meat seafood   \n",
       "\n",
       "                           aisle  \n",
       "0                   fresh fruits  \n",
       "1     packaged vegetables fruits  \n",
       "2  water seltzer sparkling water  \n",
       "3                   fresh fruits  \n",
       "4                poultry counter  "
      ]
     },
     "execution_count": 27,
     "metadata": {},
     "output_type": "execute_result"
    }
   ],
   "source": [
    "order_prods_df = order_prods_df.merge(products_df, how='left', on='product_id')\n",
    "order_prods_df.head()"
   ]
  },
  {
   "cell_type": "code",
   "execution_count": null,
   "metadata": {},
   "outputs": [],
   "source": []
  }
 ],
 "metadata": {
  "kernelspec": {
   "display_name": "Python 3",
   "language": "python",
   "name": "python3"
  },
  "language_info": {
   "codemirror_mode": {
    "name": "ipython",
    "version": 3
   },
   "file_extension": ".py",
   "mimetype": "text/x-python",
   "name": "python",
   "nbconvert_exporter": "python",
   "pygments_lexer": "ipython3",
   "version": "3.7.1"
  }
 },
 "nbformat": 4,
 "nbformat_minor": 2
}
